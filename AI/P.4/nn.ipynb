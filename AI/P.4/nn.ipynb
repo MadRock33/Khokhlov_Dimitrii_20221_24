{
 "cells": [
  {
   "metadata": {
    "ExecuteTime": {
     "end_time": "2024-11-25T08:14:47.012847Z",
     "start_time": "2024-11-25T08:14:47.005847Z"
    }
   },
   "cell_type": "code",
   "source": [
    "#!pip install numpy\n",
    "#!pip install prettytable"
   ],
   "id": "ba20697e13e99429",
   "outputs": [],
   "execution_count": 1
  },
  {
   "metadata": {
    "ExecuteTime": {
     "end_time": "2024-11-25T08:14:47.314535Z",
     "start_time": "2024-11-25T08:14:47.023326Z"
    }
   },
   "cell_type": "code",
   "source": [
    "import random\n",
    "\n",
    "import numpy as np\n",
    "\n",
    "from prettytable import PrettyTable"
   ],
   "id": "4573c6569aa4a147",
   "outputs": [],
   "execution_count": 2
  },
  {
   "metadata": {
    "ExecuteTime": {
     "end_time": "2024-11-25T08:14:47.473415Z",
     "start_time": "2024-11-25T08:14:47.465824Z"
    }
   },
   "cell_type": "code",
   "source": [
    "class Layer:\n",
    "    def __init__(self, input_size, output_size, activation_func):\n",
    "        self.activate, self.derivative = activation_func()\n",
    "        self.weights = np.random.uniform(-1.0,1.0,size=(input_size, output_size))\n",
    "        self.biases = np.zeros(output_size)        \n",
    "    def __call__(self):\n",
    "        return {\n",
    "            'weights':self.weights, \n",
    "            'biases':self.biases\n",
    "                }"
   ],
   "id": "c33091da7e445f12",
   "outputs": [],
   "execution_count": 3
  },
  {
   "metadata": {
    "ExecuteTime": {
     "end_time": "2024-11-25T08:14:47.500143Z",
     "start_time": "2024-11-25T08:14:47.492042Z"
    }
   },
   "cell_type": "code",
   "source": [
    "class Activation:\n",
    "    @staticmethod\n",
    "    def SIGMOID():\n",
    "        def activation(x):\n",
    "            return 1 / (1 + np.exp(-x))\n",
    "        def derivative(x):\n",
    "            return x * (1 - x)\n",
    "        return activation, derivative\n",
    "    \n",
    "    @staticmethod\n",
    "    def TANH():\n",
    "        def activation(x):\n",
    "            return np.tanh(x)\n",
    "        def derivative(x):\n",
    "            return 1 - x ** 2\n",
    "        return activation, derivative\n"
   ],
   "id": "46dac84595e4aa82",
   "outputs": [],
   "execution_count": 4
  },
  {
   "metadata": {
    "ExecuteTime": {
     "end_time": "2024-11-25T08:14:47.537078Z",
     "start_time": "2024-11-25T08:14:47.514664Z"
    }
   },
   "cell_type": "code",
   "source": [
    "class NN:\n",
    "    def __init__(self, layers):\n",
    "        self.layers = layers\n",
    "        self.params = self.__params()\n",
    "    \n",
    "    def __params(self):\n",
    "        params = {}\n",
    "        for i, layer in enumerate(layers):\n",
    "            params[f'layer{i}'] = {\"weights\":layer.weights,\n",
    "                                   \"biases\":layer.biases}\n",
    "        return params\n",
    "    def __forward(self, x):\n",
    "        for layer in self.layers:\n",
    "            z = np.dot(x, layer.weights) + layer.biases\n",
    "            x = layer.activate(z)\n",
    "            layer.output = np.array([x])\n",
    "        return x\n",
    "    \n",
    "    def __backward(self, x, y, lr):\n",
    "        error = -(y - self.layers[-1].output)\n",
    "        for layer in reversed(self.layers):\n",
    "            delta = error * layer.derivative(layer.output)\n",
    "            prev_output = np.array([x]) if layer == self.layers[0] else self.layers[self.layers.index(layer) - 1].output\n",
    "            \n",
    "            layer.weights -= lr * np.dot(prev_output.T, delta)\n",
    "            layer.biases -= lr * np.sum(delta, axis=0)\n",
    "            error = np.dot(delta, layer.weights.T)\n",
    "\n",
    "    def train(self, input_data, output_data, learning_rate=0.01):\n",
    "        index_list = list(range(input_data.shape[0]))\n",
    "        all_correct = False\n",
    "        while not all_correct:\n",
    "            all_correct = True\n",
    "            random.shuffle(index_list)\n",
    "            for i in index_list: \n",
    "                self.__forward(input_data[i])\n",
    "                self.__backward(input_data[i], output_data[i][0], learning_rate)\n",
    "            for i in range(input_data.shape[0]): \n",
    "                p_out = self.__forward(input_data[i])\n",
    "                all_correct = False if(((output_data[i] < 0.5) and (p_out >= 0.5)) or ((output_data[i] >= 0.5) and (p_out < 0.5))) else all_correct  \n",
    "    \n",
    "    \n",
    "    def __call__(self, input_data):\n",
    "        output = []\n",
    "        for i in range(input_data.shape[0]):\n",
    "            output.append(1 if self.__forward(input_data[i]) >= 0.5 else 0)\n",
    "        return  output\n",
    "    "
   ],
   "id": "3334fa511a109579",
   "outputs": [],
   "execution_count": 5
  },
  {
   "metadata": {
    "ExecuteTime": {
     "end_time": "2024-11-25T08:14:47.563092Z",
     "start_time": "2024-11-25T08:14:47.554767Z"
    }
   },
   "cell_type": "code",
   "source": [
    "LEARNING_RATE = 0.1\n",
    "#~~Тренировочные данные~~#\n",
    "train_input = np.array([[0, 0, 0],\n",
    "              [0, 0, 1],\n",
    "              [0, 1, 0],\n",
    "              [0, 1, 1],\n",
    "              [1, 0, 0],\n",
    "              [1, 0, 1],\n",
    "              [1, 1, 0],\n",
    "              [1, 1, 1]])\n",
    "train_output = np.array([[0,0,0,0,0,0,1,0]]).T"
   ],
   "id": "a9755c1c4ef42c39",
   "outputs": [],
   "execution_count": 6
  },
  {
   "metadata": {
    "ExecuteTime": {
     "end_time": "2024-11-25T08:14:47.601429Z",
     "start_time": "2024-11-25T08:14:47.594816Z"
    }
   },
   "cell_type": "code",
   "source": [
    "#~~Структура нейросети~~#\n",
    "layers = (\n",
    "    Layer(train_input.shape[1], 4, Activation.TANH),\n",
    "    Layer(4, 4, Activation.TANH),\n",
    "    Layer(4, 4, Activation.TANH),\n",
    "    Layer(4, 1, Activation.SIGMOID),\n",
    ")"
   ],
   "id": "da4da4882b45417e",
   "outputs": [],
   "execution_count": 7
  },
  {
   "metadata": {
    "ExecuteTime": {
     "end_time": "2024-11-25T08:14:47.628340Z",
     "start_time": "2024-11-25T08:14:47.618132Z"
    }
   },
   "cell_type": "code",
   "source": [
    "model = NN(layers) #создание объекта нейросети\n",
    "print(model.params) #вывод параметров"
   ],
   "id": "3b446b19feef4290",
   "outputs": [
    {
     "name": "stdout",
     "output_type": "stream",
     "text": [
      "{'layer0': {'weights': array([[-0.12569597,  0.53664828, -0.07118578, -0.15411523],\n",
      "       [-0.80348131, -0.36376164, -0.49611482, -0.48716103],\n",
      "       [ 0.82754344,  0.75038322,  0.44968188,  0.65198094]]), 'biases': array([0., 0., 0., 0.])}, 'layer1': {'weights': array([[ 0.28538318, -0.40570441,  0.92044151,  0.95172123],\n",
      "       [-0.18987646, -0.8123381 ,  0.41979125,  0.7833092 ],\n",
      "       [-0.47337865, -0.53352738, -0.81193015,  0.97712457],\n",
      "       [-0.2395171 ,  0.87379524, -0.99647523,  0.32474638]]), 'biases': array([0., 0., 0., 0.])}, 'layer2': {'weights': array([[ 0.55075226, -0.67010772,  0.97542937, -0.9533303 ],\n",
      "       [ 0.72753401,  0.805766  , -0.51820003, -0.38344259],\n",
      "       [ 0.74956863, -0.44144785,  0.57329522, -0.80201082],\n",
      "       [-0.50005348, -0.77355954,  0.98072434, -0.07465803]]), 'biases': array([0., 0., 0., 0.])}, 'layer3': {'weights': array([[-0.39683331],\n",
      "       [ 0.81750564],\n",
      "       [-0.6078506 ],\n",
      "       [-0.46523121]]), 'biases': array([0.])}}\n"
     ]
    }
   ],
   "execution_count": 8
  },
  {
   "metadata": {
    "ExecuteTime": {
     "end_time": "2024-11-25T08:14:47.804679Z",
     "start_time": "2024-11-25T08:14:47.752957Z"
    }
   },
   "cell_type": "code",
   "source": [
    "#~~Обучение нейросети~~#\n",
    "model.train(train_input, train_output, learning_rate=LEARNING_RATE) "
   ],
   "id": "e316a546abdd090f",
   "outputs": [],
   "execution_count": 9
  },
  {
   "metadata": {
    "ExecuteTime": {
     "end_time": "2024-11-25T08:14:47.850370Z",
     "start_time": "2024-11-25T08:14:47.840708Z"
    }
   },
   "cell_type": "code",
   "source": "print(model.params) #вывод параметров",
   "id": "7961e6de8cd3c862",
   "outputs": [
    {
     "name": "stdout",
     "output_type": "stream",
     "text": [
      "{'layer0': {'weights': array([[-0.27893624,  0.30033068, -0.08638879,  0.0091776 ],\n",
      "       [-0.74061045, -0.38163049, -0.497881  , -0.54111852],\n",
      "       [ 0.89391811,  0.79047645,  0.4753022 ,  0.60303396]]), 'biases': array([ 0.26497781,  0.1195622 ,  0.06167893, -0.16768157])}, 'layer1': {'weights': array([[ 0.3448959 , -0.4653392 ,  0.9422645 ,  0.99664469],\n",
      "       [-0.25293352, -0.74433882,  0.39036861,  0.77892137],\n",
      "       [-0.43976173, -0.56367238, -0.80269189,  1.0011556 ],\n",
      "       [-0.20461946,  0.8451374 , -0.99024692,  0.34560333]]), 'biases': array([ 0.05798559, -0.0999723 ,  0.0661497 ,  0.08560772])}, 'layer2': {'weights': array([[ 0.55025211, -0.67598381,  0.97982865, -0.95220805],\n",
      "       [ 0.69224953,  0.78926409, -0.50803512, -0.42667338],\n",
      "       [ 0.77625252, -0.43529759,  0.57054859, -0.76599317],\n",
      "       [-0.44457191, -0.84298005,  1.03490592,  0.0034418 ]]), 'biases': array([ 0.10573949, -0.1116673 ,  0.08951186,  0.1660092 ])}, 'layer3': {'weights': array([[-0.33066582],\n",
      "       [ 0.98361723],\n",
      "       [-0.79471784],\n",
      "       [-0.45703336]]), 'biases': array([-0.38419805])}}\n"
     ]
    }
   ],
   "execution_count": 10
  },
  {
   "metadata": {
    "ExecuteTime": {
     "end_time": "2024-11-25T08:14:47.992207Z",
     "start_time": "2024-11-25T08:14:47.973660Z"
    }
   },
   "cell_type": "code",
   "source": [
    "pt = PrettyTable(['x1','x2','x3','F'])\n",
    "for i in range(train_input.shape[0]):\n",
    "    pt.add_row([train_input[i][0], train_input[i][1],train_input[i][2], model(train_input)[i]])\n",
    "print(pt)\n"
   ],
   "id": "10c2c09aba9f9a24",
   "outputs": [
    {
     "name": "stdout",
     "output_type": "stream",
     "text": [
      "+----+----+----+---+\n",
      "| x1 | x2 | x3 | F |\n",
      "+----+----+----+---+\n",
      "| 0  | 0  | 0  | 0 |\n",
      "| 0  | 0  | 1  | 0 |\n",
      "| 0  | 1  | 0  | 0 |\n",
      "| 0  | 1  | 1  | 0 |\n",
      "| 1  | 0  | 0  | 0 |\n",
      "| 1  | 0  | 1  | 0 |\n",
      "| 1  | 1  | 0  | 1 |\n",
      "| 1  | 1  | 1  | 0 |\n",
      "+----+----+----+---+\n"
     ]
    }
   ],
   "execution_count": 11
  },
  {
   "metadata": {
    "ExecuteTime": {
     "end_time": "2024-11-25T08:14:48.061707Z",
     "start_time": "2024-11-25T08:14:48.057497Z"
    }
   },
   "cell_type": "code",
   "source": "",
   "id": "8281cb3614e0ddbb",
   "outputs": [],
   "execution_count": null
  }
 ],
 "metadata": {
  "kernelspec": {
   "display_name": "Python 3",
   "language": "python",
   "name": "python3"
  },
  "language_info": {
   "codemirror_mode": {
    "name": "ipython",
    "version": 2
   },
   "file_extension": ".py",
   "mimetype": "text/x-python",
   "name": "python",
   "nbconvert_exporter": "python",
   "pygments_lexer": "ipython2",
   "version": "2.7.6"
  }
 },
 "nbformat": 4,
 "nbformat_minor": 5
}
