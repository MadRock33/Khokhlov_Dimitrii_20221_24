{
 "cells": [
  {
   "cell_type": "code",
   "id": "initial_id",
   "metadata": {
    "collapsed": true,
    "ExecuteTime": {
     "end_time": "2025-04-11T08:03:31.091239Z",
     "start_time": "2025-04-11T08:03:31.081913Z"
    }
   },
   "source": [
    "import tensorflow as tf\n",
    "from tensorflow import keras\n",
    "#\n",
    "# import matplotlib as mpl\n",
    "# import matplotlib.pyplot as plt\n",
    "#\n",
    "# import numpy as np\n",
    "#\n",
    "# import glob\n",
    "\n",
    "from miditok"
   ],
   "outputs": [],
   "execution_count": 8
  },
  {
   "metadata": {
    "ExecuteTime": {
     "end_time": "2025-04-11T08:07:30.098970Z",
     "start_time": "2025-04-11T08:07:30.094150Z"
    }
   },
   "cell_type": "code",
   "source": [
    "EPOCHS = 100\n",
    "BATCH_SIZE = 16\n",
    "TRAIN_TEST_SPLIT = 0.8\n",
    "MIN = 12\n",
    "FILE = \"moonlight_sonata.mid\""
   ],
   "id": "fe194bb1bab35fee",
   "outputs": [],
   "execution_count": 10
  },
  {
   "metadata": {
    "ExecuteTime": {
     "end_time": "2025-04-11T08:12:14.047747Z",
     "start_time": "2025-04-11T08:12:14.012698Z"
    }
   },
   "cell_type": "code",
   "source": [
    "from midtok.\n",
    "from miditoolkit import MidiFile\n",
    "\n",
    "# 1. Загрузите MIDI-файл\n",
    "midi = MidiFile(FILE)  # Не используйте индексацию midi[...]!\n",
    "print(midi)\n",
    "# 2. Инициализируйте токенизатор\n",
    "tokenizer = REMI()\n",
    "\n",
    "# 3. Токенизируйте файл\n",
    "tokens = tokenizer.tokenize(midi)  # Правильный вызов"
   ],
   "id": "5526c27eee207532",
   "outputs": [
    {
     "ename": "ModuleNotFoundError",
     "evalue": "No module named 'miditok.MIDITokenizer'",
     "output_type": "error",
     "traceback": [
      "\u001B[1;31m---------------------------------------------------------------------------\u001B[0m",
      "\u001B[1;31mModuleNotFoundError\u001B[0m                       Traceback (most recent call last)",
      "Cell \u001B[1;32mIn[14], line 1\u001B[0m\n\u001B[1;32m----> 1\u001B[0m \u001B[38;5;28;01mfrom\u001B[39;00m\u001B[38;5;250m \u001B[39m\u001B[38;5;21;01mmiditok\u001B[39;00m\u001B[38;5;21;01m.\u001B[39;00m\u001B[38;5;21;01mMIDITokenizer\u001B[39;00m\u001B[38;5;250m \u001B[39m\u001B[38;5;28;01mimport\u001B[39;00m REMI\n\u001B[0;32m      2\u001B[0m \u001B[38;5;28;01mfrom\u001B[39;00m\u001B[38;5;250m \u001B[39m\u001B[38;5;21;01mmiditoolkit\u001B[39;00m\u001B[38;5;250m \u001B[39m\u001B[38;5;28;01mimport\u001B[39;00m MidiFile\n\u001B[0;32m      4\u001B[0m \u001B[38;5;66;03m# 1. Загрузите MIDI-файл\u001B[39;00m\n",
      "\u001B[1;31mModuleNotFoundError\u001B[0m: No module named 'miditok.MIDITokenizer'"
     ]
    }
   ],
   "execution_count": 14
  }
 ],
 "metadata": {
  "kernelspec": {
   "display_name": "Python 3",
   "language": "python",
   "name": "python3"
  },
  "language_info": {
   "codemirror_mode": {
    "name": "ipython",
    "version": 2
   },
   "file_extension": ".py",
   "mimetype": "text/x-python",
   "name": "python",
   "nbconvert_exporter": "python",
   "pygments_lexer": "ipython2",
   "version": "2.7.6"
  }
 },
 "nbformat": 4,
 "nbformat_minor": 5
}
