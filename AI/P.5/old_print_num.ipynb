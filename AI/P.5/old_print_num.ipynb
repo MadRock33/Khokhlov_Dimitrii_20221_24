{
 "cells": [
  {
   "cell_type": "code",
   "id": "initial_id",
   "metadata": {
    "collapsed": true,
    "ExecuteTime": {
     "end_time": "2024-12-15T21:27:08.156392Z",
     "start_time": "2024-12-15T21:27:08.151247Z"
    }
   },
   "source": [
    "# !pip install scikit-learn\n",
    "# !pip install idx2numpy"
   ],
   "outputs": [],
   "execution_count": 12
  },
  {
   "metadata": {
    "ExecuteTime": {
     "end_time": "2024-12-15T21:27:08.186990Z",
     "start_time": "2024-12-15T21:27:08.180385Z"
    }
   },
   "cell_type": "code",
   "source": [
    "import idx2numpy as idx2np\n",
    "import os"
   ],
   "id": "2186979ec1c55ff9",
   "outputs": [],
   "execution_count": 13
  },
  {
   "metadata": {
    "ExecuteTime": {
     "end_time": "2024-12-15T21:27:08.264723Z",
     "start_time": "2024-12-15T21:27:08.213404Z"
    }
   },
   "cell_type": "code",
   "source": [
    "DATASET_PATH = \"C:/Users/madro/Documents/GitHub/Khokhlov_Dimitrii_20121_23/AI/P.5/data/mnist/\"\n",
    "# Чтение файлов\n",
    "train_images = idx2np.convert_from_file(os.path.join(DATASET_PATH, \"train-images.idx3-ubyte\"))\n",
    "train_labels = idx2np.convert_from_file(os.path.join(DATASET_PATH, \"train-labels.idx1-ubyte\"))\n",
    "test_images = idx2np.convert_from_file(os.path.join(DATASET_PATH, \"t10k-images.idx3-ubyte\"))\n",
    "test_labels = idx2np.convert_from_file(os.path.join(DATASET_PATH, \"t10k-labels.idx1-ubyte\"))\n",
    "# Печать размеров массивов\n",
    "print('dimensions of train_images: ', train_images.shape)\n",
    "print('dimensions of train_labels: ', train_labels.shape)\n",
    "print('dimensions of test_images: ', test_images.shape)\n",
    "print('dimensions of test_images: ', test_labels.shape)"
   ],
   "id": "2fdc795eacf0cea8",
   "outputs": [
    {
     "name": "stdout",
     "output_type": "stream",
     "text": [
      "dimensions of train_images:  (60000, 28, 28)\n",
      "dimensions of train_labels:  (60000,)\n",
      "dimensions of test_images:  (10000, 28, 28)\n",
      "dimensions of test_images:  (10000,)\n"
     ]
    }
   ],
   "execution_count": 14
  },
  {
   "metadata": {
    "ExecuteTime": {
     "end_time": "2024-12-15T21:27:08.296194Z",
     "start_time": "2024-12-15T21:27:08.287236Z"
    }
   },
   "cell_type": "code",
   "source": [
    "def print_num(num, quantity):\n",
    "    num = [int(i) for i in str(num)]\n",
    "    print(num)\n",
    "    idxs = []\n",
    "    \n",
    "    def sort():\n",
    "        for i in num:\n",
    "            j = 0\n",
    "            \n",
    "            for k, label in enumerate(train_labels):\n",
    "                if j == quantity: break\n",
    "                if label != i: continue\n",
    "                idxs.append(k)\n",
    "                j += 1\n",
    "\n",
    "    sort()\n",
    "    for idx in idxs:\n",
    "        for line in train_images[idx]:\n",
    "            for num in line:\n",
    "                symbol = \"*\" if num > 0 else \" \"\n",
    "                print(symbol, end=' ')\n",
    "            print('')\n"
   ],
   "id": "3c115717d231c401",
   "outputs": [],
   "execution_count": 15
  },
  {
   "metadata": {
    "ExecuteTime": {
     "end_time": "2024-12-15T21:27:08.402850Z",
     "start_time": "2024-12-15T21:27:08.352042Z"
    }
   },
   "cell_type": "code",
   "source": [
    "if __name__ == '__main__':\n",
    "    print_num(8, 5)"
   ],
   "id": "5f096b2197081aa4",
   "outputs": [
    {
     "name": "stdout",
     "output_type": "stream",
     "text": [
      "[8]\n",
      "                                                        \n",
      "                                                        \n",
      "                                                        \n",
      "                                                        \n",
      "                                                        \n",
      "                                      * * * *           \n",
      "                              * * * * * * * *           \n",
      "                      * * * * * * * * * * * *           \n",
      "                      * * * * * * * * * * *             \n",
      "                    * * * * * *   * * * * *             \n",
      "                    * * * *     * * * * *               \n",
      "                    * * * * * * * * * *                 \n",
      "                    * * * * * * * * *                   \n",
      "                      * * * * * * * *                   \n",
      "                      * * * * * * *                     \n",
      "                    * * * * * *                         \n",
      "                    * * * * * *                         \n",
      "                * * * * * * * *                         \n",
      "                * * * * * * * *                         \n",
      "              * * * * * * * * *                         \n",
      "              * * *   * * * * *                         \n",
      "              * * * * * * * *                           \n",
      "              * * * * * * *                             \n",
      "              * * * * * * *                             \n",
      "              * * * * *                                 \n",
      "                                                        \n",
      "                                                        \n",
      "                                                        \n",
      "                                                        \n",
      "                                                        \n",
      "                                                        \n",
      "                                                        \n",
      "                                                        \n",
      "                          * * * * * * * *               \n",
      "                          * * * * * * * * *             \n",
      "                          * * * * * * * * *             \n",
      "                          * * * *     * * * * *         \n",
      "                          * * *     * * * * * *         \n",
      "                          * * * * * * * * * * *         \n",
      "                          * * * * * * * * * *           \n",
      "                          * * * * * * * * *             \n",
      "                        * * * * * * * *                 \n",
      "                    * * * * * * * *                     \n",
      "                  * * * * * * *                         \n",
      "                * * * * * * * *                         \n",
      "              * * * * * * * * *                         \n",
      "              * * * * * * * * *                         \n",
      "            * * * * *   * * * *                         \n",
      "          * * * *       * * * *                         \n",
      "          * * * *   * * * * *                           \n",
      "          * * * * * * * * * *                           \n",
      "          * * * * * * * * *                             \n",
      "            * * * * * * *                               \n",
      "                                                        \n",
      "                                                        \n",
      "                                                        \n",
      "                                                        \n",
      "                                                        \n",
      "                                                        \n",
      "                                                        \n",
      "                                      * * *             \n",
      "                            * * * *   * * *             \n",
      "                        * * * * * * * * * *             \n",
      "                      * * * * * * * * * * *             \n",
      "                    * * * * * * * * * * *               \n",
      "                    * * * *   * * * * * *               \n",
      "                    * * * *     * * * *                 \n",
      "                    * * * * * * * * * *                 \n",
      "                    * * * * * * * * *                   \n",
      "                      * * * * * * *                     \n",
      "                        * * * * *                       \n",
      "                      * * * * * * *                     \n",
      "                    * * * * * * * *                     \n",
      "                    * * * *   * * * *                   \n",
      "                  * * * *     * * * *                   \n",
      "                * * * *       * * *                     \n",
      "                * * * *     * * * *                     \n",
      "                * * * * * * * * *                       \n",
      "                * * * * * * * * *                       \n",
      "                * * * * * * *                           \n",
      "                                                        \n",
      "                                                        \n",
      "                                                        \n",
      "                                                        \n",
      "                                                        \n",
      "                                                        \n",
      "                                                        \n",
      "                                                        \n",
      "                                                        \n",
      "                        * * * * * * *                   \n",
      "                          * * * * * * *                 \n",
      "                    * * * * * * * * * *                 \n",
      "                * * * * * * * * * * * * *               \n",
      "                * * * * * * * * * * * *                 \n",
      "              * * *           * * * * *                 \n",
      "              * * * *         * * * *                   \n",
      "                * * * * *     * * *                     \n",
      "                * * * * * * * * *                       \n",
      "                      * * * * *                         \n",
      "                        * * * *                         \n",
      "                    * * * * * * *                       \n",
      "                    * * *   * * * *                     \n",
      "                  * * * *     * * * *                   \n",
      "                  * * * *       * * *                   \n",
      "                  * * *         * * *                   \n",
      "                  * * *         * * *                   \n",
      "                  * * *       * * * *                   \n",
      "                  * * * * * * * * *                     \n",
      "                    * * * * * * *                       \n",
      "                                                        \n",
      "                                                        \n",
      "                                                        \n",
      "                                                        \n",
      "                                                        \n",
      "                                                        \n",
      "                                                        \n",
      "                                                        \n",
      "                                                        \n",
      "                          * * * * * * * * * * * *       \n",
      "                      * * * * * * * * * * * * * *       \n",
      "                    * * * * * * * * * * * * * *         \n",
      "                  * * * * * *   * * * * * * *           \n",
      "                  * * * *       * * * * * *             \n",
      "                  * * * *     * * * * * * *             \n",
      "                  * * * * *   * * * * * *               \n",
      "                    * * * * * * * * * *                 \n",
      "                    * * * * * * * * *                   \n",
      "                        * * * * * *                     \n",
      "                      * * * * * *                       \n",
      "                    * * * * * * *                       \n",
      "                    * * * * * * *                       \n",
      "                  * * * * *   * *                       \n",
      "                * * * * *   * * *                       \n",
      "              * * * * *     * * *                       \n",
      "              * * * *     * * * *                       \n",
      "              * * * * * * * * *                         \n",
      "              * * * * * * * * *                         \n",
      "              * * * * * * * *                           \n",
      "                                                        \n",
      "                                                        \n"
     ]
    }
   ],
   "execution_count": 16
  },
  {
   "metadata": {
    "ExecuteTime": {
     "end_time": "2024-12-15T21:27:08.525903Z",
     "start_time": "2024-12-15T21:27:08.522326Z"
    }
   },
   "cell_type": "code",
   "source": "",
   "id": "7438411e0f765726",
   "outputs": [],
   "execution_count": null
  }
 ],
 "metadata": {
  "kernelspec": {
   "display_name": "Python 3",
   "language": "python",
   "name": "python3"
  },
  "language_info": {
   "codemirror_mode": {
    "name": "ipython",
    "version": 2
   },
   "file_extension": ".py",
   "mimetype": "text/x-python",
   "name": "python",
   "nbconvert_exporter": "python",
   "pygments_lexer": "ipython2",
   "version": "2.7.6"
  }
 },
 "nbformat": 4,
 "nbformat_minor": 5
}
