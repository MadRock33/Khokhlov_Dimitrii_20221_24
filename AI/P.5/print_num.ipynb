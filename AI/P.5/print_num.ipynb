{
 "cells": [
  {
   "metadata": {
    "ExecuteTime": {
     "end_time": "2024-12-16T07:32:08.149599Z",
     "start_time": "2024-12-16T07:32:08.141252Z"
    }
   },
   "cell_type": "code",
   "source": [
    "# !pip install scikit-learn\n",
    "# !pip install numpy\n",
    "# !pip install matplotlib"
   ],
   "id": "21f8815e2064e1cf",
   "outputs": [],
   "execution_count": 1
  },
  {
   "cell_type": "code",
   "id": "initial_id",
   "metadata": {
    "collapsed": true,
    "ExecuteTime": {
     "end_time": "2024-12-16T07:32:13.057223Z",
     "start_time": "2024-12-16T07:32:08.199582Z"
    }
   },
   "source": [
    "from sklearn.datasets import fetch_openml\n",
    "import numpy as np\n",
    "import os\n",
    "%matplotlib inline\n",
    "import matplotlib as mpl\n",
    "import matplotlib.pyplot as plt"
   ],
   "outputs": [],
   "execution_count": 2
  },
  {
   "metadata": {
    "ExecuteTime": {
     "end_time": "2024-12-16T07:32:13.245211Z",
     "start_time": "2024-12-16T07:32:13.231132Z"
    }
   },
   "cell_type": "code",
   "source": [
    "# Рисуем симпатичные рисунки\n",
    "mpl.rc('axes', labelsize=14)\n",
    "mpl.rc('xtick', labelsize=12)\n",
    "mpl.rc('ytick', labelsize=12)"
   ],
   "id": "ebb88d7030046f6",
   "outputs": [],
   "execution_count": 3
  },
  {
   "metadata": {
    "ExecuteTime": {
     "end_time": "2024-12-16T07:32:13.292471Z",
     "start_time": "2024-12-16T07:32:13.280954Z"
    }
   },
   "cell_type": "code",
   "source": [
    "# Указываем куда сохранять рисунки\n",
    "PROJECT_ROOT_DIR = \".\"\n",
    "CHAPTER_ID = \"classification\"\n",
    "IMAGES_PATH = os.path.join(PROJECT_ROOT_DIR, \"images\", CHAPTER_ID)\n",
    "os.makedirs(IMAGES_PATH, exist_ok=True)"
   ],
   "id": "acae16e19f0f0313",
   "outputs": [],
   "execution_count": 4
  },
  {
   "metadata": {
    "ExecuteTime": {
     "end_time": "2024-12-16T07:32:13.399631Z",
     "start_time": "2024-12-16T07:32:13.385488Z"
    }
   },
   "cell_type": "code",
   "source": [
    "#Сохраняем картинки с цифрами\n",
    "def save_fig(fig_id, tight_layout=True, fig_extension=\"png\", resolution=300):\n",
    " path = os.path.join(IMAGES_PATH, fig_id + \".\" + fig_extension)\n",
    " print(\"Saving figure\", fig_id)\n",
    " if tight_layout:\n",
    "    plt.tight_layout()\n",
    " plt.savefig(path, format=fig_extension, dpi=resolution)"
   ],
   "id": "728ecaa484e89073",
   "outputs": [],
   "execution_count": 5
  },
  {
   "metadata": {
    "ExecuteTime": {
     "end_time": "2024-12-16T07:32:23.053497Z",
     "start_time": "2024-12-16T07:32:23.046805Z"
    }
   },
   "cell_type": "code",
   "source": [
    "#Выводим одну картинку с цифрой\n",
    "def plot_digit(data):\n",
    " image = data.reshape(28, 28)\n",
    " plt.imshow(image, cmap = mpl.cm.binary,\n",
    " interpolation=\"nearest\")\n",
    " plt.axis(\"off\")"
   ],
   "id": "614a604381624b5b",
   "outputs": [],
   "execution_count": 13
  },
  {
   "metadata": {
    "ExecuteTime": {
     "end_time": "2024-12-16T07:32:23.104671Z",
     "start_time": "2024-12-16T07:32:23.095242Z"
    }
   },
   "cell_type": "code",
   "source": [
    "# Выводим много цифр…\n",
    "def plot_digits(instances, images_per_row=10, **options):\n",
    " size = 28\n",
    " images_per_row = min(len(instances), images_per_row)\n",
    "\n",
    "# Эквивалентно n_rows = ceil(len(instances) / images_per_row)\n",
    " n_rows = (len(instances) - 1) // images_per_row + 1\n",
    " # Добавляем пустое изображение, чтобы заполнить конец таблицы\n",
    " n_empty = n_rows * images_per_row - len(instances)\n",
    " padded_instances = np.concatenate([instances, np.zeros((n_empty,\n",
    "size * size))], axis=0)\n",
    " # Изменяем массив так, чтобы он представлял сетку изображений 28×28\n",
    " image_grid = padded_instances.reshape((n_rows, images_per_row,\n",
    "size, size))\n",
    " # Комбинируем оси 0 и 2 (вертик ось сетки и гориз ось\n",
    " # и оси 1 и 3 (гориз оси). Сначала перемещаем оси так,\n",
    " # чтобы они стояли друг за другом. Используем transpose()\n",
    " # Только после этого можно изменить форму массива\n",
    " big_image = image_grid.transpose(0, 2, 1, 3).reshape(n_rows * size,\n",
    "images_per_row * size)\n",
    " # Теперь мы получили большую картинку, которую не стыдно показать:\n",
    " plt.imshow(big_image, cmap = mpl.cm.binary, **options)\n",
    " plt.axis(\"off\")\n"
   ],
   "id": "fad955a7473246f2",
   "outputs": [],
   "execution_count": 14
  },
  {
   "metadata": {
    "ExecuteTime": {
     "end_time": "2024-12-16T07:32:21.559006Z",
     "start_time": "2024-12-16T07:32:13.497652Z"
    }
   },
   "cell_type": "code",
   "outputs": [
    {
     "data": {
      "text/plain": [
       "dict_keys(['data', 'target', 'frame', 'categories', 'feature_names', 'target_names', 'DESCR', 'details', 'url'])"
      ]
     },
     "execution_count": 6,
     "metadata": {},
     "output_type": "execute_result"
    }
   ],
   "execution_count": 6,
   "source": [
    "#Извлекаем датасет \"Mnist\" из хранилища OpenML\n",
    "mnist = fetch_openml('mnist_784', version=1, as_frame=False)\n",
    "mnist.keys()"
   ],
   "id": "df1662b3183abf54"
  },
  {
   "metadata": {
    "ExecuteTime": {
     "end_time": "2024-12-16T07:32:21.699099Z",
     "start_time": "2024-12-16T07:32:21.689646Z"
    }
   },
   "cell_type": "code",
   "outputs": [
    {
     "data": {
      "text/plain": [
       "(70000, 784)"
      ]
     },
     "execution_count": 7,
     "metadata": {},
     "output_type": "execute_result"
    }
   ],
   "execution_count": 7,
   "source": [
    "#Распаковываем картинки(массив с цветом каждого пикселя) и подписи к ним\n",
    "X, y = mnist[\"data\"], mnist[\"target\"]"
   ],
   "id": "6726777f9f3ee162"
  },
  {
   "metadata": {},
   "cell_type": "code",
   "outputs": [],
   "execution_count": null,
   "source": [
    "#Выводим размер массива с картинками\n",
    "X.shape"
   ],
   "id": "92ffa0bb9052b7fa"
  },
  {
   "metadata": {
    "ExecuteTime": {
     "end_time": "2024-12-16T07:32:21.905505Z",
     "start_time": "2024-12-16T07:32:21.896446Z"
    }
   },
   "cell_type": "code",
   "outputs": [
    {
     "data": {
      "text/plain": [
       "(70000,)"
      ]
     },
     "execution_count": 8,
     "metadata": {},
     "output_type": "execute_result"
    }
   ],
   "execution_count": 8,
   "source": [
    "#Выводим размер массива с подписями\n",
    "y.shape"
   ],
   "id": "c0b26887abbfd85b"
  },
  {
   "metadata": {
    "ExecuteTime": {
     "end_time": "2024-12-16T07:39:43.459179Z",
     "start_time": "2024-12-16T07:39:43.408166Z"
    }
   },
   "cell_type": "code",
   "outputs": [
    {
     "data": {
      "text/plain": [
       "(-0.5, 27.5, 27.5, -0.5)"
      ]
     },
     "execution_count": 16,
     "metadata": {},
     "output_type": "execute_result"
    }
   ],
   "execution_count": 16,
   "source": [
    "some_digit = X[0] #Берём из массива с картинками первую картинку\n",
    "some_digit_image = some_digit.reshape(28, 28) #меняем размер массива с выбранной картинкой (Из (756,1) в (28,28)) для дальнейшего удобного вывода\n",
    "plt.imshow(some_digit_image, cmap=mpl.cm.binary) #Создаём \"график\" с выбранной картинкой и делаем её в формате  \n",
    "plt.axis(\"off\") #Выключаем отображение осей"
   ],
   "id": "193e658dc5571587"
  },
  {
   "metadata": {
    "ExecuteTime": {
     "end_time": "2024-12-16T07:32:22.886747Z",
     "start_time": "2024-12-16T07:32:22.249308Z"
    }
   },
   "cell_type": "code",
   "outputs": [
    {
     "name": "stdout",
     "output_type": "stream",
     "text": [
      "Saving figure some_digit_plot\n"
     ]
    },
    {
     "data": {
      "text/plain": [
       "<Figure size 640x480 with 1 Axes>"
      ],
      "image/png": "[encoded data removed]"
     },
     "metadata": {},
     "output_type": "display_data"
    }
   ],
   "execution_count": 10,
   "source": [
    "save_fig(\"some_digit_plot\") #Сохраняем выбранную картинку\n",
    "plt.show() #Выводим выбранную картинку"
   ],
   "id": "25e2c980c27b352a"
  },
  {
   "metadata": {
    "ExecuteTime": {
     "end_time": "2024-12-16T07:32:22.917580Z",
     "start_time": "2024-12-16T07:32:22.908581Z"
    }
   },
   "cell_type": "code",
   "outputs": [
    {
     "data": {
      "text/plain": [
       "'5'"
      ]
     },
     "execution_count": 11,
     "metadata": {},
     "output_type": "execute_result"
    }
   ],
   "execution_count": 11,
   "source": [
    "#Выводим первую подпись из массива с подписями\n",
    "y[0]"
   ],
   "id": "253e5780f1f7504f"
  },
  {
   "metadata": {
    "ExecuteTime": {
     "end_time": "2024-12-16T07:32:22.995832Z",
     "start_time": "2024-12-16T07:32:22.980479Z"
    }
   },
   "cell_type": "code",
   "outputs": [],
   "execution_count": 12,
   "source": [
    "#Меняем тип данных в массиве на uINT8\n",
    "y = y.astype(np.uint8)"
   ],
   "id": "f7a8d36cf5ae19cd"
  },
  {
   "metadata": {
    "ExecuteTime": {
     "end_time": "2024-12-16T07:32:23.934398Z",
     "start_time": "2024-12-16T07:32:23.136679Z"
    }
   },
   "cell_type": "code",
   "source": [
    "plt.figure(figsize=(9,9)) #Задаём размер \"графика\"\n",
    "example_images = X[:100] #Берём последние 100 картинок из массива\n",
    "plot_digits(example_images, images_per_row=10) #Создаём \"график\" с 100 картинками с цифрами, по 10 в каждой строке \n",
    "save_fig(\"more_digits_plot\") #Сохраняем этот список из 100 картинок\n",
    "plt.show() #Выводим \"график\""
   ],
   "id": "5ea6df93b150005a",
   "outputs": [
    {
     "name": "stdout",
     "output_type": "stream",
     "text": [
      "Saving figure more_digits_plot\n"
     ]
    },
    {
     "data": {
      "text/plain": [
       "<Figure size 900x900 with 1 Axes>"
      ],
      "image/png": "[encoded data removed]"
     },
     "metadata": {},
     "output_type": "display_data"
    }
   ],
   "execution_count": 15
  },
  {
   "metadata": {
    "ExecuteTime": {
     "end_time": "2024-12-16T08:18:56.222145Z",
     "start_time": "2024-12-16T08:18:56.215153Z"
    }
   },
   "cell_type": "code",
   "source": [
    "def num_from_dataset(num, images, labels):\n",
    "    nums = [int(num) for num in str(num)]\n",
    "    return [(img, label) for img, label in zip(images, labels) if label in nums]"
   ],
   "id": "fdfe0b95809e857b",
   "outputs": [],
   "execution_count": 22
  },
  {
   "metadata": {
    "ExecuteTime": {
     "end_time": "2024-12-16T08:18:58.519953Z",
     "start_time": "2024-12-16T08:18:57.896664Z"
    }
   },
   "cell_type": "code",
   "source": "len(num_from_dataset(12, X, y))",
   "id": "6313682c884517",
   "outputs": [
    {
     "data": {
      "text/plain": [
       "14867"
      ]
     },
     "execution_count": 23,
     "metadata": {},
     "output_type": "execute_result"
    }
   ],
   "execution_count": 23
  }
 ],
 "metadata": {
  "kernelspec": {
   "display_name": "Python 3",
   "language": "python",
   "name": "python3"
  },
  "language_info": {
   "codemirror_mode": {
    "name": "ipython",
    "version": 2
   },
   "file_extension": ".py",
   "mimetype": "text/x-python",
   "name": "python",
   "nbconvert_exporter": "python",
   "pygments_lexer": "ipython2",
   "version": "2.7.6"
  }
 },
 "nbformat": 4,
 "nbformat_minor": 5
}
