{
 "cells": [
  {
   "metadata": {},
   "cell_type": "markdown",
   "source": "# Практическая работа №1(7)",
   "id": "124ce5a110ae8302"
  },
  {
   "metadata": {},
   "cell_type": "markdown",
   "source": "## Константы",
   "id": "4a1c44bb82725c57"
  },
  {
   "metadata": {
    "ExecuteTime": {
     "end_time": "2025-03-12T11:54:24.554001Z",
     "start_time": "2025-03-12T11:54:24.546118Z"
    }
   },
   "cell_type": "code",
   "source": [
    "BATCH_SIZE = 32 #пакет данных\n",
    "EPOCHS = 15 #итерации\n",
    "LEARNING_RATE = 0.01 #шаг"
   ],
   "id": "9217c9b423478a8a",
   "outputs": [],
   "execution_count": 1
  },
  {
   "metadata": {},
   "cell_type": "markdown",
   "source": "## Код нейросети",
   "id": "c6847140f3e1fd67"
  },
  {
   "metadata": {},
   "cell_type": "markdown",
   "source": "### Установка/Импорт библиотек",
   "id": "af719a40dcae1164"
  },
  {
   "metadata": {
    "ExecuteTime": {
     "end_time": "2025-03-12T11:54:30.724228Z",
     "start_time": "2025-03-12T11:54:24.593033Z"
    }
   },
   "cell_type": "code",
   "source": "!pip install tensorflow",
   "id": "40a05cdda6cba447",
   "outputs": [
    {
     "name": "stdout",
     "output_type": "stream",
     "text": [
      "Requirement already satisfied: tensorflow in c:\\users\\madro\\appdata\\local\\programs\\python\\python312\\lib\\site-packages (2.18.0)\n",
      "Requirement already satisfied: tensorflow-intel==2.18.0 in c:\\users\\madro\\appdata\\local\\programs\\python\\python312\\lib\\site-packages (from tensorflow) (2.18.0)\n",
      "Requirement already satisfied: absl-py>=1.0.0 in c:\\users\\madro\\appdata\\local\\programs\\python\\python312\\lib\\site-packages (from tensorflow-intel==2.18.0->tensorflow) (2.1.0)\n",
      "Requirement already satisfied: astunparse>=1.6.0 in c:\\users\\madro\\appdata\\local\\programs\\python\\python312\\lib\\site-packages (from tensorflow-intel==2.18.0->tensorflow) (1.6.3)\n",
      "Requirement already satisfied: flatbuffers>=24.3.25 in c:\\users\\madro\\appdata\\local\\programs\\python\\python312\\lib\\site-packages (from tensorflow-intel==2.18.0->tensorflow) (25.1.24)\n",
      "Requirement already satisfied: gast!=0.5.0,!=0.5.1,!=0.5.2,>=0.2.1 in c:\\users\\madro\\appdata\\local\\programs\\python\\python312\\lib\\site-packages (from tensorflow-intel==2.18.0->tensorflow) (0.6.0)\n",
      "Requirement already satisfied: google-pasta>=0.1.1 in c:\\users\\madro\\appdata\\local\\programs\\python\\python312\\lib\\site-packages (from tensorflow-intel==2.18.0->tensorflow) (0.2.0)\n",
      "Requirement already satisfied: libclang>=13.0.0 in c:\\users\\madro\\appdata\\local\\programs\\python\\python312\\lib\\site-packages (from tensorflow-intel==2.18.0->tensorflow) (18.1.1)\n",
      "Requirement already satisfied: opt-einsum>=2.3.2 in c:\\users\\madro\\appdata\\local\\programs\\python\\python312\\lib\\site-packages (from tensorflow-intel==2.18.0->tensorflow) (3.4.0)\n",
      "Requirement already satisfied: packaging in c:\\users\\madro\\appdata\\local\\programs\\python\\python312\\lib\\site-packages (from tensorflow-intel==2.18.0->tensorflow) (24.2)\n",
      "Requirement already satisfied: protobuf!=4.21.0,!=4.21.1,!=4.21.2,!=4.21.3,!=4.21.4,!=4.21.5,<6.0.0dev,>=3.20.3 in c:\\users\\madro\\appdata\\local\\programs\\python\\python312\\lib\\site-packages (from tensorflow-intel==2.18.0->tensorflow) (5.29.3)\n",
      "Requirement already satisfied: requests<3,>=2.21.0 in c:\\users\\madro\\appdata\\local\\programs\\python\\python312\\lib\\site-packages (from tensorflow-intel==2.18.0->tensorflow) (2.32.3)\n",
      "Requirement already satisfied: setuptools in c:\\users\\madro\\appdata\\local\\programs\\python\\python312\\lib\\site-packages (from tensorflow-intel==2.18.0->tensorflow) (75.8.0)\n",
      "Requirement already satisfied: six>=1.12.0 in c:\\users\\madro\\appdata\\local\\programs\\python\\python312\\lib\\site-packages (from tensorflow-intel==2.18.0->tensorflow) (1.17.0)\n",
      "Requirement already satisfied: termcolor>=1.1.0 in c:\\users\\madro\\appdata\\local\\programs\\python\\python312\\lib\\site-packages (from tensorflow-intel==2.18.0->tensorflow) (2.5.0)\n",
      "Requirement already satisfied: typing-extensions>=3.6.6 in c:\\users\\madro\\appdata\\local\\programs\\python\\python312\\lib\\site-packages (from tensorflow-intel==2.18.0->tensorflow) (4.12.2)\n",
      "Requirement already satisfied: wrapt>=1.11.0 in c:\\users\\madro\\appdata\\local\\programs\\python\\python312\\lib\\site-packages (from tensorflow-intel==2.18.0->tensorflow) (1.17.2)\n",
      "Requirement already satisfied: grpcio<2.0,>=1.24.3 in c:\\users\\madro\\appdata\\local\\programs\\python\\python312\\lib\\site-packages (from tensorflow-intel==2.18.0->tensorflow) (1.70.0)\n",
      "Requirement already satisfied: tensorboard<2.19,>=2.18 in c:\\users\\madro\\appdata\\local\\programs\\python\\python312\\lib\\site-packages (from tensorflow-intel==2.18.0->tensorflow) (2.18.0)\n",
      "Requirement already satisfied: keras>=3.5.0 in c:\\users\\madro\\appdata\\local\\programs\\python\\python312\\lib\\site-packages (from tensorflow-intel==2.18.0->tensorflow) (3.8.0)\n",
      "Requirement already satisfied: numpy<2.1.0,>=1.26.0 in c:\\users\\madro\\appdata\\local\\programs\\python\\python312\\lib\\site-packages (from tensorflow-intel==2.18.0->tensorflow) (2.0.2)\n",
      "Requirement already satisfied: h5py>=3.11.0 in c:\\users\\madro\\appdata\\local\\programs\\python\\python312\\lib\\site-packages (from tensorflow-intel==2.18.0->tensorflow) (3.12.1)\n",
      "Requirement already satisfied: ml-dtypes<0.5.0,>=0.4.0 in c:\\users\\madro\\appdata\\local\\programs\\python\\python312\\lib\\site-packages (from tensorflow-intel==2.18.0->tensorflow) (0.4.1)\n",
      "Requirement already satisfied: wheel<1.0,>=0.23.0 in c:\\users\\madro\\appdata\\local\\programs\\python\\python312\\lib\\site-packages (from astunparse>=1.6.0->tensorflow-intel==2.18.0->tensorflow) (0.45.1)\n",
      "Requirement already satisfied: rich in c:\\users\\madro\\appdata\\local\\programs\\python\\python312\\lib\\site-packages (from keras>=3.5.0->tensorflow-intel==2.18.0->tensorflow) (13.9.4)\n",
      "Requirement already satisfied: namex in c:\\users\\madro\\appdata\\local\\programs\\python\\python312\\lib\\site-packages (from keras>=3.5.0->tensorflow-intel==2.18.0->tensorflow) (0.0.8)\n",
      "Requirement already satisfied: optree in c:\\users\\madro\\appdata\\local\\programs\\python\\python312\\lib\\site-packages (from keras>=3.5.0->tensorflow-intel==2.18.0->tensorflow) (0.14.0)\n",
      "Requirement already satisfied: charset-normalizer<4,>=2 in c:\\users\\madro\\appdata\\local\\programs\\python\\python312\\lib\\site-packages (from requests<3,>=2.21.0->tensorflow-intel==2.18.0->tensorflow) (3.4.1)\n",
      "Requirement already satisfied: idna<4,>=2.5 in c:\\users\\madro\\appdata\\local\\programs\\python\\python312\\lib\\site-packages (from requests<3,>=2.21.0->tensorflow-intel==2.18.0->tensorflow) (3.10)\n",
      "Requirement already satisfied: urllib3<3,>=1.21.1 in c:\\users\\madro\\appdata\\local\\programs\\python\\python312\\lib\\site-packages (from requests<3,>=2.21.0->tensorflow-intel==2.18.0->tensorflow) (2.3.0)\n",
      "Requirement already satisfied: certifi>=2017.4.17 in c:\\users\\madro\\appdata\\local\\programs\\python\\python312\\lib\\site-packages (from requests<3,>=2.21.0->tensorflow-intel==2.18.0->tensorflow) (2025.1.31)\n",
      "Requirement already satisfied: markdown>=2.6.8 in c:\\users\\madro\\appdata\\local\\programs\\python\\python312\\lib\\site-packages (from tensorboard<2.19,>=2.18->tensorflow-intel==2.18.0->tensorflow) (3.7)\n",
      "Requirement already satisfied: tensorboard-data-server<0.8.0,>=0.7.0 in c:\\users\\madro\\appdata\\local\\programs\\python\\python312\\lib\\site-packages (from tensorboard<2.19,>=2.18->tensorflow-intel==2.18.0->tensorflow) (0.7.2)\n",
      "Requirement already satisfied: werkzeug>=1.0.1 in c:\\users\\madro\\appdata\\local\\programs\\python\\python312\\lib\\site-packages (from tensorboard<2.19,>=2.18->tensorflow-intel==2.18.0->tensorflow) (3.1.3)\n",
      "Requirement already satisfied: MarkupSafe>=2.1.1 in c:\\users\\madro\\appdata\\local\\programs\\python\\python312\\lib\\site-packages (from werkzeug>=1.0.1->tensorboard<2.19,>=2.18->tensorflow-intel==2.18.0->tensorflow) (3.0.2)\n",
      "Requirement already satisfied: markdown-it-py>=2.2.0 in c:\\users\\madro\\appdata\\local\\programs\\python\\python312\\lib\\site-packages (from rich->keras>=3.5.0->tensorflow-intel==2.18.0->tensorflow) (3.0.0)\n",
      "Requirement already satisfied: pygments<3.0.0,>=2.13.0 in c:\\users\\madro\\appdata\\local\\programs\\python\\python312\\lib\\site-packages (from rich->keras>=3.5.0->tensorflow-intel==2.18.0->tensorflow) (2.19.1)\n",
      "Requirement already satisfied: mdurl~=0.1 in c:\\users\\madro\\appdata\\local\\programs\\python\\python312\\lib\\site-packages (from markdown-it-py>=2.2.0->rich->keras>=3.5.0->tensorflow-intel==2.18.0->tensorflow) (0.1.2)\n"
     ]
    },
    {
     "name": "stderr",
     "output_type": "stream",
     "text": [
      "\n",
      "[notice] A new release of pip is available: 24.3.1 -> 25.0.1\n",
      "[notice] To update, run: python.exe -m pip install --upgrade pip\n"
     ]
    }
   ],
   "execution_count": 2
  },
  {
   "metadata": {
    "ExecuteTime": {
     "end_time": "2025-03-12T11:54:43.282955Z",
     "start_time": "2025-03-12T11:54:31.717295Z"
    }
   },
   "cell_type": "code",
   "source": [
    "import tensorflow as tf\n",
    "from tensorflow import keras\n",
    "from tensorflow.keras.utils import to_categorical\n",
    "import numpy as np"
   ],
   "id": "81220b029f71b60b",
   "outputs": [],
   "execution_count": 3
  },
  {
   "metadata": {
    "ExecuteTime": {
     "end_time": "2025-03-12T11:54:43.304066Z",
     "start_time": "2025-03-12T11:54:43.298161Z"
    }
   },
   "cell_type": "code",
   "source": "tf.random.set_seed(7)",
   "id": "54ae40e093652dc2",
   "outputs": [],
   "execution_count": 4
  },
  {
   "metadata": {},
   "cell_type": "markdown",
   "source": "### Работа с датасетом",
   "id": "7f9b2281a33fc8b4"
  },
  {
   "metadata": {
    "ExecuteTime": {
     "end_time": "2025-03-12T11:54:43.770068Z",
     "start_time": "2025-03-12T11:54:43.318957Z"
    }
   },
   "cell_type": "code",
   "source": [
    "#Скачивание датасета\n",
    "mnist = keras.datasets.mnist\n",
    "(train_images, train_labels), (test_images, test_labels) = mnist.load_data()"
   ],
   "id": "3db38cafb4869734",
   "outputs": [],
   "execution_count": 5
  },
  {
   "metadata": {
    "ExecuteTime": {
     "end_time": "2025-03-12T11:54:43.792303Z",
     "start_time": "2025-03-12T11:54:43.788440Z"
    }
   },
   "cell_type": "code",
   "source": "",
   "id": "ad3664fdbb4beac1",
   "outputs": [],
   "execution_count": null
  },
  {
   "metadata": {
    "ExecuteTime": {
     "end_time": "2025-03-12T11:54:43.824661Z",
     "start_time": "2025-03-12T11:54:43.814121Z"
    }
   },
   "cell_type": "code",
   "source": "print(train_images[1])",
   "id": "a7a060573872efb4",
   "outputs": [
    {
     "name": "stdout",
     "output_type": "stream",
     "text": [
      "[[  0   0   0   0   0   0   0   0   0   0   0   0   0   0   0   0   0   0\n",
      "    0   0   0   0   0   0   0   0   0   0]\n",
      " [  0   0   0   0   0   0   0   0   0   0   0   0   0   0   0   0   0   0\n",
      "    0   0   0   0   0   0   0   0   0   0]\n",
      " [  0   0   0   0   0   0   0   0   0   0   0   0   0   0   0   0   0   0\n",
      "    0   0   0   0   0   0   0   0   0   0]\n",
      " [  0   0   0   0   0   0   0   0   0   0   0   0   0   0   0   0   0   0\n",
      "    0   0   0   0   0   0   0   0   0   0]\n",
      " [  0   0   0   0   0   0   0   0   0   0   0   0   0   0   0  51 159 253\n",
      "  159  50   0   0   0   0   0   0   0   0]\n",
      " [  0   0   0   0   0   0   0   0   0   0   0   0   0   0  48 238 252 252\n",
      "  252 237   0   0   0   0   0   0   0   0]\n",
      " [  0   0   0   0   0   0   0   0   0   0   0   0   0  54 227 253 252 239\n",
      "  233 252  57   6   0   0   0   0   0   0]\n",
      " [  0   0   0   0   0   0   0   0   0   0   0  10  60 224 252 253 252 202\n",
      "   84 252 253 122   0   0   0   0   0   0]\n",
      " [  0   0   0   0   0   0   0   0   0   0   0 163 252 252 252 253 252 252\n",
      "   96 189 253 167   0   0   0   0   0   0]\n",
      " [  0   0   0   0   0   0   0   0   0   0  51 238 253 253 190 114 253 228\n",
      "   47  79 255 168   0   0   0   0   0   0]\n",
      " [  0   0   0   0   0   0   0   0   0  48 238 252 252 179  12  75 121  21\n",
      "    0   0 253 243  50   0   0   0   0   0]\n",
      " [  0   0   0   0   0   0   0   0  38 165 253 233 208  84   0   0   0   0\n",
      "    0   0 253 252 165   0   0   0   0   0]\n",
      " [  0   0   0   0   0   0   0   7 178 252 240  71  19  28   0   0   0   0\n",
      "    0   0 253 252 195   0   0   0   0   0]\n",
      " [  0   0   0   0   0   0   0  57 252 252  63   0   0   0   0   0   0   0\n",
      "    0   0 253 252 195   0   0   0   0   0]\n",
      " [  0   0   0   0   0   0   0 198 253 190   0   0   0   0   0   0   0   0\n",
      "    0   0 255 253 196   0   0   0   0   0]\n",
      " [  0   0   0   0   0   0  76 246 252 112   0   0   0   0   0   0   0   0\n",
      "    0   0 253 252 148   0   0   0   0   0]\n",
      " [  0   0   0   0   0   0  85 252 230  25   0   0   0   0   0   0   0   0\n",
      "    7 135 253 186  12   0   0   0   0   0]\n",
      " [  0   0   0   0   0   0  85 252 223   0   0   0   0   0   0   0   0   7\n",
      "  131 252 225  71   0   0   0   0   0   0]\n",
      " [  0   0   0   0   0   0  85 252 145   0   0   0   0   0   0   0  48 165\n",
      "  252 173   0   0   0   0   0   0   0   0]\n",
      " [  0   0   0   0   0   0  86 253 225   0   0   0   0   0   0 114 238 253\n",
      "  162   0   0   0   0   0   0   0   0   0]\n",
      " [  0   0   0   0   0   0  85 252 249 146  48  29  85 178 225 253 223 167\n",
      "   56   0   0   0   0   0   0   0   0   0]\n",
      " [  0   0   0   0   0   0  85 252 252 252 229 215 252 252 252 196 130   0\n",
      "    0   0   0   0   0   0   0   0   0   0]\n",
      " [  0   0   0   0   0   0  28 199 252 252 253 252 252 233 145   0   0   0\n",
      "    0   0   0   0   0   0   0   0   0   0]\n",
      " [  0   0   0   0   0   0   0  25 128 252 253 252 141  37   0   0   0   0\n",
      "    0   0   0   0   0   0   0   0   0   0]\n",
      " [  0   0   0   0   0   0   0   0   0   0   0   0   0   0   0   0   0   0\n",
      "    0   0   0   0   0   0   0   0   0   0]\n",
      " [  0   0   0   0   0   0   0   0   0   0   0   0   0   0   0   0   0   0\n",
      "    0   0   0   0   0   0   0   0   0   0]\n",
      " [  0   0   0   0   0   0   0   0   0   0   0   0   0   0   0   0   0   0\n",
      "    0   0   0   0   0   0   0   0   0   0]\n",
      " [  0   0   0   0   0   0   0   0   0   0   0   0   0   0   0   0   0   0\n",
      "    0   0   0   0   0   0   0   0   0   0]]\n"
     ]
    }
   ],
   "execution_count": 6
  },
  {
   "metadata": {
    "ExecuteTime": {
     "end_time": "2025-03-12T11:54:44.876554Z",
     "start_time": "2025-03-12T11:54:43.989969Z"
    }
   },
   "cell_type": "code",
   "source": [
    "#Нормализация датасета\n",
    "mean = np.mean(train_images)\n",
    "sttdev = np.std(train_images)\n",
    "print(mean)\n",
    "print(sttdev)\n",
    "train_images = (train_images-mean) / sttdev\n",
    "test_images = (test_images-mean) / sttdev\n",
    "print(test_images.shape)\n",
    "train_labels = to_categorical(train_labels)\n",
    "test_labels = to_categorical(test_labels)\n"
   ],
   "id": "592c334f000d74f5",
   "outputs": [
    {
     "name": "stdout",
     "output_type": "stream",
     "text": [
      "33.318421449829934\n",
      "78.56748998339798\n",
      "(10000, 28, 28)\n"
     ]
    }
   ],
   "execution_count": 7
  },
  {
   "metadata": {
    "ExecuteTime": {
     "end_time": "2025-03-12T11:54:44.907234Z",
     "start_time": "2025-03-12T11:54:44.889561Z"
    }
   },
   "cell_type": "code",
   "source": "print(train_images[1])",
   "id": "f252d36af2b9d269",
   "outputs": [
    {
     "name": "stdout",
     "output_type": "stream",
     "text": [
      "[[-0.42407389 -0.42407389 -0.42407389 -0.42407389 -0.42407389 -0.42407389\n",
      "  -0.42407389 -0.42407389 -0.42407389 -0.42407389 -0.42407389 -0.42407389\n",
      "  -0.42407389 -0.42407389 -0.42407389 -0.42407389 -0.42407389 -0.42407389\n",
      "  -0.42407389 -0.42407389 -0.42407389 -0.42407389 -0.42407389 -0.42407389\n",
      "  -0.42407389 -0.42407389 -0.42407389 -0.42407389]\n",
      " [-0.42407389 -0.42407389 -0.42407389 -0.42407389 -0.42407389 -0.42407389\n",
      "  -0.42407389 -0.42407389 -0.42407389 -0.42407389 -0.42407389 -0.42407389\n",
      "  -0.42407389 -0.42407389 -0.42407389 -0.42407389 -0.42407389 -0.42407389\n",
      "  -0.42407389 -0.42407389 -0.42407389 -0.42407389 -0.42407389 -0.42407389\n",
      "  -0.42407389 -0.42407389 -0.42407389 -0.42407389]\n",
      " [-0.42407389 -0.42407389 -0.42407389 -0.42407389 -0.42407389 -0.42407389\n",
      "  -0.42407389 -0.42407389 -0.42407389 -0.42407389 -0.42407389 -0.42407389\n",
      "  -0.42407389 -0.42407389 -0.42407389 -0.42407389 -0.42407389 -0.42407389\n",
      "  -0.42407389 -0.42407389 -0.42407389 -0.42407389 -0.42407389 -0.42407389\n",
      "  -0.42407389 -0.42407389 -0.42407389 -0.42407389]\n",
      " [-0.42407389 -0.42407389 -0.42407389 -0.42407389 -0.42407389 -0.42407389\n",
      "  -0.42407389 -0.42407389 -0.42407389 -0.42407389 -0.42407389 -0.42407389\n",
      "  -0.42407389 -0.42407389 -0.42407389 -0.42407389 -0.42407389 -0.42407389\n",
      "  -0.42407389 -0.42407389 -0.42407389 -0.42407389 -0.42407389 -0.42407389\n",
      "  -0.42407389 -0.42407389 -0.42407389 -0.42407389]\n",
      " [-0.42407389 -0.42407389 -0.42407389 -0.42407389 -0.42407389 -0.42407389\n",
      "  -0.42407389 -0.42407389 -0.42407389 -0.42407389 -0.42407389 -0.42407389\n",
      "  -0.42407389 -0.42407389 -0.42407389  0.22504955  1.59966391  2.79608752\n",
      "   1.59966391  0.21232164 -0.42407389 -0.42407389 -0.42407389 -0.42407389\n",
      "  -0.42407389 -0.42407389 -0.42407389 -0.42407389]\n",
      " [-0.42407389 -0.42407389 -0.42407389 -0.42407389 -0.42407389 -0.42407389\n",
      "  -0.42407389 -0.42407389 -0.42407389 -0.42407389 -0.42407389 -0.42407389\n",
      "  -0.42407389 -0.42407389  0.18686582  2.60516886  2.78335961  2.78335961\n",
      "   2.78335961  2.59244095 -0.42407389 -0.42407389 -0.42407389 -0.42407389\n",
      "  -0.42407389 -0.42407389 -0.42407389 -0.42407389]\n",
      " [-0.42407389 -0.42407389 -0.42407389 -0.42407389 -0.42407389 -0.42407389\n",
      "  -0.42407389 -0.42407389 -0.42407389 -0.42407389 -0.42407389 -0.42407389\n",
      "  -0.42407389  0.26323329  2.46516184  2.79608752  2.78335961  2.61789677\n",
      "   2.54152931  2.78335961  0.30141702 -0.34770643 -0.42407389 -0.42407389\n",
      "  -0.42407389 -0.42407389 -0.42407389 -0.42407389]\n",
      " [-0.42407389 -0.42407389 -0.42407389 -0.42407389 -0.42407389 -0.42407389\n",
      "  -0.42407389 -0.42407389 -0.42407389 -0.42407389 -0.42407389 -0.29679479\n",
      "   0.33960075  2.42697811  2.78335961  2.79608752  2.78335961  2.14696408\n",
      "   0.64507061  2.78335961  2.79608752  1.12873122 -0.42407389 -0.42407389\n",
      "  -0.42407389 -0.42407389 -0.42407389 -0.42407389]\n",
      " [-0.42407389 -0.42407389 -0.42407389 -0.42407389 -0.42407389 -0.42407389\n",
      "  -0.42407389 -0.42407389 -0.42407389 -0.42407389 -0.42407389  1.65057556\n",
      "   2.78335961  2.78335961  2.78335961  2.79608752  2.78335961  2.78335961\n",
      "   0.79780554  1.98150124  2.79608752  1.7014872  -0.42407389 -0.42407389\n",
      "  -0.42407389 -0.42407389 -0.42407389 -0.42407389]\n",
      " [-0.42407389 -0.42407389 -0.42407389 -0.42407389 -0.42407389 -0.42407389\n",
      "  -0.42407389 -0.42407389 -0.42407389 -0.42407389  0.22504955  2.60516886\n",
      "   2.79608752  2.79608752  1.99422915  1.02690793  2.79608752  2.47788976\n",
      "   0.17413791  0.58143105  2.82154335  1.71421511 -0.42407389 -0.42407389\n",
      "  -0.42407389 -0.42407389 -0.42407389 -0.42407389]\n",
      " [-0.42407389 -0.42407389 -0.42407389 -0.42407389 -0.42407389 -0.42407389\n",
      "  -0.42407389 -0.42407389 -0.42407389  0.18686582  2.60516886  2.78335961\n",
      "   2.78335961  1.85422213 -0.27133897  0.53051941  1.11600331 -0.15678777\n",
      "  -0.42407389 -0.42407389  2.79608752  2.66880842  0.21232164 -0.42407389\n",
      "  -0.42407389 -0.42407389 -0.42407389 -0.42407389]\n",
      " [-0.42407389 -0.42407389 -0.42407389 -0.42407389 -0.42407389 -0.42407389\n",
      "  -0.42407389 -0.42407389  0.05958671  1.67603138  2.79608752  2.54152931\n",
      "   2.22333154  0.64507061 -0.42407389 -0.42407389 -0.42407389 -0.42407389\n",
      "  -0.42407389 -0.42407389  2.79608752  2.78335961  1.67603138 -0.42407389\n",
      "  -0.42407389 -0.42407389 -0.42407389 -0.42407389]\n",
      " [-0.42407389 -0.42407389 -0.42407389 -0.42407389 -0.42407389 -0.42407389\n",
      "  -0.42407389 -0.33497852  1.84149422  2.78335961  2.63062468  0.47960777\n",
      "  -0.18224359 -0.06769239 -0.42407389 -0.42407389 -0.42407389 -0.42407389\n",
      "  -0.42407389 -0.42407389  2.79608752  2.78335961  2.0578687  -0.42407389\n",
      "  -0.42407389 -0.42407389 -0.42407389 -0.42407389]\n",
      " [-0.42407389 -0.42407389 -0.42407389 -0.42407389 -0.42407389 -0.42407389\n",
      "  -0.42407389  0.30141702  2.78335961  2.78335961  0.37778448 -0.42407389\n",
      "  -0.42407389 -0.42407389 -0.42407389 -0.42407389 -0.42407389 -0.42407389\n",
      "  -0.42407389 -0.42407389  2.79608752  2.78335961  2.0578687  -0.42407389\n",
      "  -0.42407389 -0.42407389 -0.42407389 -0.42407389]\n",
      " [-0.42407389 -0.42407389 -0.42407389 -0.42407389 -0.42407389 -0.42407389\n",
      "  -0.42407389  2.09605243  2.79608752  1.99422915 -0.42407389 -0.42407389\n",
      "  -0.42407389 -0.42407389 -0.42407389 -0.42407389 -0.42407389 -0.42407389\n",
      "  -0.42407389 -0.42407389  2.82154335  2.79608752  2.07059661 -0.42407389\n",
      "  -0.42407389 -0.42407389 -0.42407389 -0.42407389]\n",
      " [-0.42407389 -0.42407389 -0.42407389 -0.42407389 -0.42407389 -0.42407389\n",
      "   0.54324732  2.70699215  2.78335961  1.00145211 -0.42407389 -0.42407389\n",
      "  -0.42407389 -0.42407389 -0.42407389 -0.42407389 -0.42407389 -0.42407389\n",
      "  -0.42407389 -0.42407389  2.79608752  2.78335961  1.4596569  -0.42407389\n",
      "  -0.42407389 -0.42407389 -0.42407389 -0.42407389]\n",
      " [-0.42407389 -0.42407389 -0.42407389 -0.42407389 -0.42407389 -0.42407389\n",
      "   0.65779852  2.78335961  2.50334558 -0.10587613 -0.42407389 -0.42407389\n",
      "  -0.42407389 -0.42407389 -0.42407389 -0.42407389 -0.42407389 -0.42407389\n",
      "  -0.33497852  1.29419406  2.79608752  1.9433175  -0.27133897 -0.42407389\n",
      "  -0.42407389 -0.42407389 -0.42407389 -0.42407389]\n",
      " [-0.42407389 -0.42407389 -0.42407389 -0.42407389 -0.42407389 -0.42407389\n",
      "   0.65779852  2.78335961  2.4142502  -0.42407389 -0.42407389 -0.42407389\n",
      "  -0.42407389 -0.42407389 -0.42407389 -0.42407389 -0.42407389 -0.33497852\n",
      "   1.24328241  2.78335961  2.43970602  0.47960777 -0.42407389 -0.42407389\n",
      "  -0.42407389 -0.42407389 -0.42407389 -0.42407389]\n",
      " [-0.42407389 -0.42407389 -0.42407389 -0.42407389 -0.42407389 -0.42407389\n",
      "   0.65779852  2.78335961  1.42147316 -0.42407389 -0.42407389 -0.42407389\n",
      "  -0.42407389 -0.42407389 -0.42407389 -0.42407389  0.18686582  1.67603138\n",
      "   2.78335961  1.77785466 -0.42407389 -0.42407389 -0.42407389 -0.42407389\n",
      "  -0.42407389 -0.42407389 -0.42407389 -0.42407389]\n",
      " [-0.42407389 -0.42407389 -0.42407389 -0.42407389 -0.42407389 -0.42407389\n",
      "   0.67052643  2.79608752  2.43970602 -0.42407389 -0.42407389 -0.42407389\n",
      "  -0.42407389 -0.42407389 -0.42407389  1.02690793  2.60516886  2.79608752\n",
      "   1.63784765 -0.42407389 -0.42407389 -0.42407389 -0.42407389 -0.42407389\n",
      "  -0.42407389 -0.42407389 -0.42407389 -0.42407389]\n",
      " [-0.42407389 -0.42407389 -0.42407389 -0.42407389 -0.42407389 -0.42407389\n",
      "   0.65779852  2.78335961  2.74517588  1.43420107  0.18686582 -0.05496448\n",
      "   0.65779852  1.84149422  2.43970602  2.79608752  2.4142502   1.7014872\n",
      "   0.28868911 -0.42407389 -0.42407389 -0.42407389 -0.42407389 -0.42407389\n",
      "  -0.42407389 -0.42407389 -0.42407389 -0.42407389]\n",
      " [-0.42407389 -0.42407389 -0.42407389 -0.42407389 -0.42407389 -0.42407389\n",
      "   0.65779852  2.78335961  2.78335961  2.78335961  2.49061767  2.31242692\n",
      "   2.78335961  2.78335961  2.78335961  2.07059661  1.2305545  -0.42407389\n",
      "  -0.42407389 -0.42407389 -0.42407389 -0.42407389 -0.42407389 -0.42407389\n",
      "  -0.42407389 -0.42407389 -0.42407389 -0.42407389]\n",
      " [-0.42407389 -0.42407389 -0.42407389 -0.42407389 -0.42407389 -0.42407389\n",
      "  -0.06769239  2.10878034  2.78335961  2.78335961  2.79608752  2.78335961\n",
      "   2.78335961  2.54152931  1.42147316 -0.42407389 -0.42407389 -0.42407389\n",
      "  -0.42407389 -0.42407389 -0.42407389 -0.42407389 -0.42407389 -0.42407389\n",
      "  -0.42407389 -0.42407389 -0.42407389 -0.42407389]\n",
      " [-0.42407389 -0.42407389 -0.42407389 -0.42407389 -0.42407389 -0.42407389\n",
      "  -0.42407389 -0.10587613  1.20509868  2.78335961  2.79608752  2.78335961\n",
      "   1.37056152  0.0468588  -0.42407389 -0.42407389 -0.42407389 -0.42407389\n",
      "  -0.42407389 -0.42407389 -0.42407389 -0.42407389 -0.42407389 -0.42407389\n",
      "  -0.42407389 -0.42407389 -0.42407389 -0.42407389]\n",
      " [-0.42407389 -0.42407389 -0.42407389 -0.42407389 -0.42407389 -0.42407389\n",
      "  -0.42407389 -0.42407389 -0.42407389 -0.42407389 -0.42407389 -0.42407389\n",
      "  -0.42407389 -0.42407389 -0.42407389 -0.42407389 -0.42407389 -0.42407389\n",
      "  -0.42407389 -0.42407389 -0.42407389 -0.42407389 -0.42407389 -0.42407389\n",
      "  -0.42407389 -0.42407389 -0.42407389 -0.42407389]\n",
      " [-0.42407389 -0.42407389 -0.42407389 -0.42407389 -0.42407389 -0.42407389\n",
      "  -0.42407389 -0.42407389 -0.42407389 -0.42407389 -0.42407389 -0.42407389\n",
      "  -0.42407389 -0.42407389 -0.42407389 -0.42407389 -0.42407389 -0.42407389\n",
      "  -0.42407389 -0.42407389 -0.42407389 -0.42407389 -0.42407389 -0.42407389\n",
      "  -0.42407389 -0.42407389 -0.42407389 -0.42407389]\n",
      " [-0.42407389 -0.42407389 -0.42407389 -0.42407389 -0.42407389 -0.42407389\n",
      "  -0.42407389 -0.42407389 -0.42407389 -0.42407389 -0.42407389 -0.42407389\n",
      "  -0.42407389 -0.42407389 -0.42407389 -0.42407389 -0.42407389 -0.42407389\n",
      "  -0.42407389 -0.42407389 -0.42407389 -0.42407389 -0.42407389 -0.42407389\n",
      "  -0.42407389 -0.42407389 -0.42407389 -0.42407389]\n",
      " [-0.42407389 -0.42407389 -0.42407389 -0.42407389 -0.42407389 -0.42407389\n",
      "  -0.42407389 -0.42407389 -0.42407389 -0.42407389 -0.42407389 -0.42407389\n",
      "  -0.42407389 -0.42407389 -0.42407389 -0.42407389 -0.42407389 -0.42407389\n",
      "  -0.42407389 -0.42407389 -0.42407389 -0.42407389 -0.42407389 -0.42407389\n",
      "  -0.42407389 -0.42407389 -0.42407389 -0.42407389]]\n"
     ]
    }
   ],
   "execution_count": 8
  },
  {
   "metadata": {},
   "cell_type": "markdown",
   "source": "### Работа с нейросетью",
   "id": "14693ea8220a50dd"
  },
  {
   "metadata": {
    "ExecuteTime": {
     "end_time": "2025-03-12T11:54:45.249268Z",
     "start_time": "2025-03-12T11:54:45.001323Z"
    }
   },
   "cell_type": "code",
   "source": [
    "initializer = keras.initializers.he_normal()\n",
    "model = keras.Sequential([\n",
    "    keras.layers.Flatten(input_shape=(28, 28)),\n",
    "    keras.layers.Dense(128, activation='sigmoid',\n",
    "        kernel_initializer=initializer,\n",
    "        bias_initializer='zeros'),\n",
    "    keras.layers.BatchNormalization(),\n",
    "    keras.layers.Dense(64, activation='sigmoid',\n",
    "        kernel_initializer=initializer,\n",
    "        bias_initializer='zeros'),\n",
    "    keras.layers.BatchNormalization(),\n",
    "    keras.layers.Dense(32, activation='sigmoid',\n",
    "        kernel_initializer=initializer,\n",
    "        bias_initializer='zeros'),\n",
    "    keras.layers.BatchNormalization(),\n",
    "    keras.layers.Dense(16, activation='sigmoid',\n",
    "        kernel_initializer=initializer,\n",
    "        bias_initializer='zeros'),\n",
    "    keras.layers.BatchNormalization(),\n",
    "    keras.layers.Dense(10, activation='sigmoid',\n",
    "        kernel_initializer=initializer,\n",
    "        bias_initializer='zeros')\n",
    "\n",
    "])\n"
   ],
   "id": "95be041d96170ed9",
   "outputs": [
    {
     "name": "stderr",
     "output_type": "stream",
     "text": [
      "C:\\Users\\madro\\OneDrive\\Документы\\GitHub\\Khokhlov_Dimitrii_20221_24\\.venv\\Lib\\site-packages\\keras\\src\\layers\\reshaping\\flatten.py:37: UserWarning: Do not pass an `input_shape`/`input_dim` argument to a layer. When using Sequential models, prefer using an `Input(shape)` object as the first layer in the model instead.\n",
      "  super().__init__(**kwargs)\n"
     ]
    }
   ],
   "execution_count": 9
  },
  {
   "metadata": {
    "ExecuteTime": {
     "end_time": "2025-03-12T11:54:45.389162Z",
     "start_time": "2025-03-12T11:54:45.344008Z"
    }
   },
   "cell_type": "code",
   "source": "model.summary() #вывод информации о структуре нейросети",
   "id": "9af8fdb8e76ce432",
   "outputs": [
    {
     "data": {
      "text/plain": [
       "\u001B[1mModel: \"sequential\"\u001B[0m\n"
      ],
      "text/html": [
       "<pre style=\"white-space:pre;overflow-x:auto;line-height:normal;font-family:Menlo,'DejaVu Sans Mono',consolas,'Courier New',monospace\"><span style=\"font-weight: bold\">Model: \"sequential\"</span>\n",
       "</pre>\n"
      ]
     },
     "metadata": {},
     "output_type": "display_data"
    },
    {
     "data": {
      "text/plain": [
       "┏━━━━━━━━━━━━━━━━━━━━━━━━━━━━━━━━━┳━━━━━━━━━━━━━━━━━━━━━━━━┳━━━━━━━━━━━━━━━┓\n",
       "┃\u001B[1m \u001B[0m\u001B[1mLayer (type)                   \u001B[0m\u001B[1m \u001B[0m┃\u001B[1m \u001B[0m\u001B[1mOutput Shape          \u001B[0m\u001B[1m \u001B[0m┃\u001B[1m \u001B[0m\u001B[1m      Param #\u001B[0m\u001B[1m \u001B[0m┃\n",
       "┡━━━━━━━━━━━━━━━━━━━━━━━━━━━━━━━━━╇━━━━━━━━━━━━━━━━━━━━━━━━╇━━━━━━━━━━━━━━━┩\n",
       "│ flatten (\u001B[38;5;33mFlatten\u001B[0m)               │ (\u001B[38;5;45mNone\u001B[0m, \u001B[38;5;34m784\u001B[0m)            │             \u001B[38;5;34m0\u001B[0m │\n",
       "├─────────────────────────────────┼────────────────────────┼───────────────┤\n",
       "│ dense (\u001B[38;5;33mDense\u001B[0m)                   │ (\u001B[38;5;45mNone\u001B[0m, \u001B[38;5;34m128\u001B[0m)            │       \u001B[38;5;34m100,480\u001B[0m │\n",
       "├─────────────────────────────────┼────────────────────────┼───────────────┤\n",
       "│ batch_normalization             │ (\u001B[38;5;45mNone\u001B[0m, \u001B[38;5;34m128\u001B[0m)            │           \u001B[38;5;34m512\u001B[0m │\n",
       "│ (\u001B[38;5;33mBatchNormalization\u001B[0m)            │                        │               │\n",
       "├─────────────────────────────────┼────────────────────────┼───────────────┤\n",
       "│ dense_1 (\u001B[38;5;33mDense\u001B[0m)                 │ (\u001B[38;5;45mNone\u001B[0m, \u001B[38;5;34m64\u001B[0m)             │         \u001B[38;5;34m8,256\u001B[0m │\n",
       "├─────────────────────────────────┼────────────────────────┼───────────────┤\n",
       "│ batch_normalization_1           │ (\u001B[38;5;45mNone\u001B[0m, \u001B[38;5;34m64\u001B[0m)             │           \u001B[38;5;34m256\u001B[0m │\n",
       "│ (\u001B[38;5;33mBatchNormalization\u001B[0m)            │                        │               │\n",
       "├─────────────────────────────────┼────────────────────────┼───────────────┤\n",
       "│ dense_2 (\u001B[38;5;33mDense\u001B[0m)                 │ (\u001B[38;5;45mNone\u001B[0m, \u001B[38;5;34m32\u001B[0m)             │         \u001B[38;5;34m2,080\u001B[0m │\n",
       "├─────────────────────────────────┼────────────────────────┼───────────────┤\n",
       "│ batch_normalization_2           │ (\u001B[38;5;45mNone\u001B[0m, \u001B[38;5;34m32\u001B[0m)             │           \u001B[38;5;34m128\u001B[0m │\n",
       "│ (\u001B[38;5;33mBatchNormalization\u001B[0m)            │                        │               │\n",
       "├─────────────────────────────────┼────────────────────────┼───────────────┤\n",
       "│ dense_3 (\u001B[38;5;33mDense\u001B[0m)                 │ (\u001B[38;5;45mNone\u001B[0m, \u001B[38;5;34m16\u001B[0m)             │           \u001B[38;5;34m528\u001B[0m │\n",
       "├─────────────────────────────────┼────────────────────────┼───────────────┤\n",
       "│ batch_normalization_3           │ (\u001B[38;5;45mNone\u001B[0m, \u001B[38;5;34m16\u001B[0m)             │            \u001B[38;5;34m64\u001B[0m │\n",
       "│ (\u001B[38;5;33mBatchNormalization\u001B[0m)            │                        │               │\n",
       "├─────────────────────────────────┼────────────────────────┼───────────────┤\n",
       "│ dense_4 (\u001B[38;5;33mDense\u001B[0m)                 │ (\u001B[38;5;45mNone\u001B[0m, \u001B[38;5;34m10\u001B[0m)             │           \u001B[38;5;34m170\u001B[0m │\n",
       "└─────────────────────────────────┴────────────────────────┴───────────────┘\n"
      ],
      "text/html": [
       "<pre style=\"white-space:pre;overflow-x:auto;line-height:normal;font-family:Menlo,'DejaVu Sans Mono',consolas,'Courier New',monospace\">┏━━━━━━━━━━━━━━━━━━━━━━━━━━━━━━━━━┳━━━━━━━━━━━━━━━━━━━━━━━━┳━━━━━━━━━━━━━━━┓\n",
       "┃<span style=\"font-weight: bold\"> Layer (type)                    </span>┃<span style=\"font-weight: bold\"> Output Shape           </span>┃<span style=\"font-weight: bold\">       Param # </span>┃\n",
       "┡━━━━━━━━━━━━━━━━━━━━━━━━━━━━━━━━━╇━━━━━━━━━━━━━━━━━━━━━━━━╇━━━━━━━━━━━━━━━┩\n",
       "│ flatten (<span style=\"color: #0087ff; text-decoration-color: #0087ff\">Flatten</span>)               │ (<span style=\"color: #00d7ff; text-decoration-color: #00d7ff\">None</span>, <span style=\"color: #00af00; text-decoration-color: #00af00\">784</span>)            │             <span style=\"color: #00af00; text-decoration-color: #00af00\">0</span> │\n",
       "├─────────────────────────────────┼────────────────────────┼───────────────┤\n",
       "│ dense (<span style=\"color: #0087ff; text-decoration-color: #0087ff\">Dense</span>)                   │ (<span style=\"color: #00d7ff; text-decoration-color: #00d7ff\">None</span>, <span style=\"color: #00af00; text-decoration-color: #00af00\">128</span>)            │       <span style=\"color: #00af00; text-decoration-color: #00af00\">100,480</span> │\n",
       "├─────────────────────────────────┼────────────────────────┼───────────────┤\n",
       "│ batch_normalization             │ (<span style=\"color: #00d7ff; text-decoration-color: #00d7ff\">None</span>, <span style=\"color: #00af00; text-decoration-color: #00af00\">128</span>)            │           <span style=\"color: #00af00; text-decoration-color: #00af00\">512</span> │\n",
       "│ (<span style=\"color: #0087ff; text-decoration-color: #0087ff\">BatchNormalization</span>)            │                        │               │\n",
       "├─────────────────────────────────┼────────────────────────┼───────────────┤\n",
       "│ dense_1 (<span style=\"color: #0087ff; text-decoration-color: #0087ff\">Dense</span>)                 │ (<span style=\"color: #00d7ff; text-decoration-color: #00d7ff\">None</span>, <span style=\"color: #00af00; text-decoration-color: #00af00\">64</span>)             │         <span style=\"color: #00af00; text-decoration-color: #00af00\">8,256</span> │\n",
       "├─────────────────────────────────┼────────────────────────┼───────────────┤\n",
       "│ batch_normalization_1           │ (<span style=\"color: #00d7ff; text-decoration-color: #00d7ff\">None</span>, <span style=\"color: #00af00; text-decoration-color: #00af00\">64</span>)             │           <span style=\"color: #00af00; text-decoration-color: #00af00\">256</span> │\n",
       "│ (<span style=\"color: #0087ff; text-decoration-color: #0087ff\">BatchNormalization</span>)            │                        │               │\n",
       "├─────────────────────────────────┼────────────────────────┼───────────────┤\n",
       "│ dense_2 (<span style=\"color: #0087ff; text-decoration-color: #0087ff\">Dense</span>)                 │ (<span style=\"color: #00d7ff; text-decoration-color: #00d7ff\">None</span>, <span style=\"color: #00af00; text-decoration-color: #00af00\">32</span>)             │         <span style=\"color: #00af00; text-decoration-color: #00af00\">2,080</span> │\n",
       "├─────────────────────────────────┼────────────────────────┼───────────────┤\n",
       "│ batch_normalization_2           │ (<span style=\"color: #00d7ff; text-decoration-color: #00d7ff\">None</span>, <span style=\"color: #00af00; text-decoration-color: #00af00\">32</span>)             │           <span style=\"color: #00af00; text-decoration-color: #00af00\">128</span> │\n",
       "│ (<span style=\"color: #0087ff; text-decoration-color: #0087ff\">BatchNormalization</span>)            │                        │               │\n",
       "├─────────────────────────────────┼────────────────────────┼───────────────┤\n",
       "│ dense_3 (<span style=\"color: #0087ff; text-decoration-color: #0087ff\">Dense</span>)                 │ (<span style=\"color: #00d7ff; text-decoration-color: #00d7ff\">None</span>, <span style=\"color: #00af00; text-decoration-color: #00af00\">16</span>)             │           <span style=\"color: #00af00; text-decoration-color: #00af00\">528</span> │\n",
       "├─────────────────────────────────┼────────────────────────┼───────────────┤\n",
       "│ batch_normalization_3           │ (<span style=\"color: #00d7ff; text-decoration-color: #00d7ff\">None</span>, <span style=\"color: #00af00; text-decoration-color: #00af00\">16</span>)             │            <span style=\"color: #00af00; text-decoration-color: #00af00\">64</span> │\n",
       "│ (<span style=\"color: #0087ff; text-decoration-color: #0087ff\">BatchNormalization</span>)            │                        │               │\n",
       "├─────────────────────────────────┼────────────────────────┼───────────────┤\n",
       "│ dense_4 (<span style=\"color: #0087ff; text-decoration-color: #0087ff\">Dense</span>)                 │ (<span style=\"color: #00d7ff; text-decoration-color: #00d7ff\">None</span>, <span style=\"color: #00af00; text-decoration-color: #00af00\">10</span>)             │           <span style=\"color: #00af00; text-decoration-color: #00af00\">170</span> │\n",
       "└─────────────────────────────────┴────────────────────────┴───────────────┘\n",
       "</pre>\n"
      ]
     },
     "metadata": {},
     "output_type": "display_data"
    },
    {
     "data": {
      "text/plain": [
       "\u001B[1m Total params: \u001B[0m\u001B[38;5;34m112,474\u001B[0m (439.35 KB)\n"
      ],
      "text/html": [
       "<pre style=\"white-space:pre;overflow-x:auto;line-height:normal;font-family:Menlo,'DejaVu Sans Mono',consolas,'Courier New',monospace\"><span style=\"font-weight: bold\"> Total params: </span><span style=\"color: #00af00; text-decoration-color: #00af00\">112,474</span> (439.35 KB)\n",
       "</pre>\n"
      ]
     },
     "metadata": {},
     "output_type": "display_data"
    },
    {
     "data": {
      "text/plain": [
       "\u001B[1m Trainable params: \u001B[0m\u001B[38;5;34m111,994\u001B[0m (437.48 KB)\n"
      ],
      "text/html": [
       "<pre style=\"white-space:pre;overflow-x:auto;line-height:normal;font-family:Menlo,'DejaVu Sans Mono',consolas,'Courier New',monospace\"><span style=\"font-weight: bold\"> Trainable params: </span><span style=\"color: #00af00; text-decoration-color: #00af00\">111,994</span> (437.48 KB)\n",
       "</pre>\n"
      ]
     },
     "metadata": {},
     "output_type": "display_data"
    },
    {
     "data": {
      "text/plain": [
       "\u001B[1m Non-trainable params: \u001B[0m\u001B[38;5;34m480\u001B[0m (1.88 KB)\n"
      ],
      "text/html": [
       "<pre style=\"white-space:pre;overflow-x:auto;line-height:normal;font-family:Menlo,'DejaVu Sans Mono',consolas,'Courier New',monospace\"><span style=\"font-weight: bold\"> Non-trainable params: </span><span style=\"color: #00af00; text-decoration-color: #00af00\">480</span> (1.88 KB)\n",
       "</pre>\n"
      ]
     },
     "metadata": {},
     "output_type": "display_data"
    }
   ],
   "execution_count": 10
  },
  {
   "metadata": {
    "ExecuteTime": {
     "end_time": "2025-03-12T11:54:45.555686Z",
     "start_time": "2025-03-12T11:54:45.528197Z"
    }
   },
   "cell_type": "code",
   "source": [
    "opt = keras.optimizers.SGD(learning_rate=LEARNING_RATE)\n",
    "model.compile(optimizer=opt, loss='categorical_crossentropy', metrics=['accuracy'])"
   ],
   "id": "85cfe77f9c07bb90",
   "outputs": [],
   "execution_count": 11
  },
  {
   "metadata": {
    "ExecuteTime": {
     "end_time": "2025-03-12T11:56:17.774433Z",
     "start_time": "2025-03-12T11:54:45.594403Z"
    }
   },
   "cell_type": "code",
   "source": [
    "#Обучение нейросети\n",
    "history = model.fit(train_images, train_labels,validation_data = (test_images,test_labels), epochs=EPOCHS,verbose = 2, batch_size=BATCH_SIZE, shuffle=True)"
   ],
   "id": "a5c196cb0b0596b0",
   "outputs": [
    {
     "name": "stdout",
     "output_type": "stream",
     "text": [
      "Epoch 1/15\n",
      "1875/1875 - 9s - 5ms/step - accuracy: 0.8624 - loss: 0.4934 - val_accuracy: 0.9390 - val_loss: 0.2191\n",
      "Epoch 2/15\n",
      "1875/1875 - 6s - 3ms/step - accuracy: 0.9340 - loss: 0.2320 - val_accuracy: 0.9541 - val_loss: 0.1568\n",
      "Epoch 3/15\n",
      "1875/1875 - 6s - 3ms/step - accuracy: 0.9520 - loss: 0.1704 - val_accuracy: 0.9595 - val_loss: 0.1308\n",
      "Epoch 4/15\n",
      "1875/1875 - 6s - 3ms/step - accuracy: 0.9623 - loss: 0.1347 - val_accuracy: 0.9635 - val_loss: 0.1168\n",
      "Epoch 5/15\n",
      "1875/1875 - 6s - 3ms/step - accuracy: 0.9693 - loss: 0.1101 - val_accuracy: 0.9667 - val_loss: 0.1085\n",
      "Epoch 6/15\n",
      "1875/1875 - 6s - 3ms/step - accuracy: 0.9747 - loss: 0.0912 - val_accuracy: 0.9699 - val_loss: 0.1034\n",
      "Epoch 7/15\n",
      "1875/1875 - 6s - 3ms/step - accuracy: 0.9796 - loss: 0.0759 - val_accuracy: 0.9705 - val_loss: 0.1005\n",
      "Epoch 8/15\n",
      "1875/1875 - 6s - 3ms/step - accuracy: 0.9841 - loss: 0.0633 - val_accuracy: 0.9707 - val_loss: 0.0992\n",
      "Epoch 9/15\n",
      "1875/1875 - 6s - 3ms/step - accuracy: 0.9877 - loss: 0.0527 - val_accuracy: 0.9709 - val_loss: 0.0987\n",
      "Epoch 10/15\n",
      "1875/1875 - 6s - 3ms/step - accuracy: 0.9904 - loss: 0.0438 - val_accuracy: 0.9715 - val_loss: 0.0986\n",
      "Epoch 11/15\n",
      "1875/1875 - 6s - 3ms/step - accuracy: 0.9933 - loss: 0.0364 - val_accuracy: 0.9723 - val_loss: 0.0990\n",
      "Epoch 12/15\n",
      "1875/1875 - 6s - 3ms/step - accuracy: 0.9949 - loss: 0.0301 - val_accuracy: 0.9734 - val_loss: 0.1000\n",
      "Epoch 13/15\n",
      "1875/1875 - 6s - 3ms/step - accuracy: 0.9964 - loss: 0.0248 - val_accuracy: 0.9736 - val_loss: 0.1013\n",
      "Epoch 14/15\n",
      "1875/1875 - 6s - 3ms/step - accuracy: 0.9974 - loss: 0.0203 - val_accuracy: 0.9741 - val_loss: 0.1026\n",
      "Epoch 15/15\n",
      "1875/1875 - 6s - 3ms/step - accuracy: 0.9984 - loss: 0.0165 - val_accuracy: 0.9738 - val_loss: 0.1038\n"
     ]
    }
   ],
   "execution_count": 12
  },
  {
   "metadata": {
    "ExecuteTime": {
     "end_time": "2025-03-12T11:56:17.881069Z",
     "start_time": "2025-03-12T11:56:17.857078Z"
    }
   },
   "cell_type": "code",
   "source": "test_images[0]",
   "id": "41135a62889acbc8",
   "outputs": [
    {
     "data": {
      "text/plain": [
       "array([[-0.42407389, -0.42407389, -0.42407389, -0.42407389, -0.42407389,\n",
       "        -0.42407389, -0.42407389, -0.42407389, -0.42407389, -0.42407389,\n",
       "        -0.42407389, -0.42407389, -0.42407389, -0.42407389, -0.42407389,\n",
       "        -0.42407389, -0.42407389, -0.42407389, -0.42407389, -0.42407389,\n",
       "        -0.42407389, -0.42407389, -0.42407389, -0.42407389, -0.42407389,\n",
       "        -0.42407389, -0.42407389, -0.42407389],\n",
       "       [-0.42407389, -0.42407389, -0.42407389, -0.42407389, -0.42407389,\n",
       "        -0.42407389, -0.42407389, -0.42407389, -0.42407389, -0.42407389,\n",
       "        -0.42407389, -0.42407389, -0.42407389, -0.42407389, -0.42407389,\n",
       "        -0.42407389, -0.42407389, -0.42407389, -0.42407389, -0.42407389,\n",
       "        -0.42407389, -0.42407389, -0.42407389, -0.42407389, -0.42407389,\n",
       "        -0.42407389, -0.42407389, -0.42407389],\n",
       "       [-0.42407389, -0.42407389, -0.42407389, -0.42407389, -0.42407389,\n",
       "        -0.42407389, -0.42407389, -0.42407389, -0.42407389, -0.42407389,\n",
       "        -0.42407389, -0.42407389, -0.42407389, -0.42407389, -0.42407389,\n",
       "        -0.42407389, -0.42407389, -0.42407389, -0.42407389, -0.42407389,\n",
       "        -0.42407389, -0.42407389, -0.42407389, -0.42407389, -0.42407389,\n",
       "        -0.42407389, -0.42407389, -0.42407389],\n",
       "       [-0.42407389, -0.42407389, -0.42407389, -0.42407389, -0.42407389,\n",
       "        -0.42407389, -0.42407389, -0.42407389, -0.42407389, -0.42407389,\n",
       "        -0.42407389, -0.42407389, -0.42407389, -0.42407389, -0.42407389,\n",
       "        -0.42407389, -0.42407389, -0.42407389, -0.42407389, -0.42407389,\n",
       "        -0.42407389, -0.42407389, -0.42407389, -0.42407389, -0.42407389,\n",
       "        -0.42407389, -0.42407389, -0.42407389],\n",
       "       [-0.42407389, -0.42407389, -0.42407389, -0.42407389, -0.42407389,\n",
       "        -0.42407389, -0.42407389, -0.42407389, -0.42407389, -0.42407389,\n",
       "        -0.42407389, -0.42407389, -0.42407389, -0.42407389, -0.42407389,\n",
       "        -0.42407389, -0.42407389, -0.42407389, -0.42407389, -0.42407389,\n",
       "        -0.42407389, -0.42407389, -0.42407389, -0.42407389, -0.42407389,\n",
       "        -0.42407389, -0.42407389, -0.42407389],\n",
       "       [-0.42407389, -0.42407389, -0.42407389, -0.42407389, -0.42407389,\n",
       "        -0.42407389, -0.42407389, -0.42407389, -0.42407389, -0.42407389,\n",
       "        -0.42407389, -0.42407389, -0.42407389, -0.42407389, -0.42407389,\n",
       "        -0.42407389, -0.42407389, -0.42407389, -0.42407389, -0.42407389,\n",
       "        -0.42407389, -0.42407389, -0.42407389, -0.42407389, -0.42407389,\n",
       "        -0.42407389, -0.42407389, -0.42407389],\n",
       "       [-0.42407389, -0.42407389, -0.42407389, -0.42407389, -0.42407389,\n",
       "        -0.42407389, -0.42407389, -0.42407389, -0.42407389, -0.42407389,\n",
       "        -0.42407389, -0.42407389, -0.42407389, -0.42407389, -0.42407389,\n",
       "        -0.42407389, -0.42407389, -0.42407389, -0.42407389, -0.42407389,\n",
       "        -0.42407389, -0.42407389, -0.42407389, -0.42407389, -0.42407389,\n",
       "        -0.42407389, -0.42407389, -0.42407389],\n",
       "       [-0.42407389, -0.42407389, -0.42407389, -0.42407389, -0.42407389,\n",
       "        -0.42407389,  0.64507061,  1.93058959,  1.59966391,  1.49784063,\n",
       "         0.33960075,  0.03413089, -0.42407389, -0.42407389, -0.42407389,\n",
       "        -0.42407389, -0.42407389, -0.42407389, -0.42407389, -0.42407389,\n",
       "        -0.42407389, -0.42407389, -0.42407389, -0.42407389, -0.42407389,\n",
       "        -0.42407389, -0.42407389, -0.42407389],\n",
       "       [-0.42407389, -0.42407389, -0.42407389, -0.42407389, -0.42407389,\n",
       "        -0.42407389,  2.40152229,  2.80881543,  2.80881543,  2.80881543,\n",
       "         2.80881543,  2.6433526 ,  2.09605243,  2.09605243,  2.09605243,\n",
       "         2.09605243,  2.09605243,  2.09605243,  2.09605243,  2.09605243,\n",
       "         1.73967093,  0.23777746, -0.42407389, -0.42407389, -0.42407389,\n",
       "        -0.42407389, -0.42407389, -0.42407389],\n",
       "       [-0.42407389, -0.42407389, -0.42407389, -0.42407389, -0.42407389,\n",
       "        -0.42407389,  0.42869613,  1.02690793,  0.49233568,  1.02690793,\n",
       "         1.65057556,  2.46516184,  2.80881543,  2.43970602,  2.80881543,\n",
       "         2.80881543,  2.80881543,  2.75790379,  2.49061767,  2.80881543,\n",
       "         2.80881543,  1.35783361, -0.42407389, -0.42407389, -0.42407389,\n",
       "        -0.42407389, -0.42407389, -0.42407389],\n",
       "       [-0.42407389, -0.42407389, -0.42407389, -0.42407389, -0.42407389,\n",
       "        -0.42407389, -0.42407389, -0.42407389, -0.42407389, -0.42407389,\n",
       "        -0.42407389, -0.20769941,  0.41596821, -0.24588314,  0.42869613,\n",
       "         0.42869613,  0.42869613,  0.32687284, -0.15678777,  2.57971304,\n",
       "         2.80881543,  0.92508464, -0.42407389, -0.42407389, -0.42407389,\n",
       "        -0.42407389, -0.42407389, -0.42407389],\n",
       "       [-0.42407389, -0.42407389, -0.42407389, -0.42407389, -0.42407389,\n",
       "        -0.42407389, -0.42407389, -0.42407389, -0.42407389, -0.42407389,\n",
       "        -0.42407389, -0.42407389, -0.42407389, -0.42407389, -0.42407389,\n",
       "        -0.42407389, -0.42407389, -0.42407389,  0.6323427 ,  2.79608752,\n",
       "         2.23605945, -0.1949715 , -0.42407389, -0.42407389, -0.42407389,\n",
       "        -0.42407389, -0.42407389, -0.42407389],\n",
       "       [-0.42407389, -0.42407389, -0.42407389, -0.42407389, -0.42407389,\n",
       "        -0.42407389, -0.42407389, -0.42407389, -0.42407389, -0.42407389,\n",
       "        -0.42407389, -0.42407389, -0.42407389, -0.42407389, -0.42407389,\n",
       "        -0.42407389, -0.42407389, -0.14405986,  2.54152931,  2.82154335,\n",
       "         0.6323427 , -0.42407389, -0.42407389, -0.42407389, -0.42407389,\n",
       "        -0.42407389, -0.42407389, -0.42407389],\n",
       "       [-0.42407389, -0.42407389, -0.42407389, -0.42407389, -0.42407389,\n",
       "        -0.42407389, -0.42407389, -0.42407389, -0.42407389, -0.42407389,\n",
       "        -0.42407389, -0.42407389, -0.42407389, -0.42407389, -0.42407389,\n",
       "        -0.42407389, -0.42407389,  1.21782659,  2.80881543,  2.60516886,\n",
       "         0.13595418, -0.42407389, -0.42407389, -0.42407389, -0.42407389,\n",
       "        -0.42407389, -0.42407389, -0.42407389],\n",
       "       [-0.42407389, -0.42407389, -0.42407389, -0.42407389, -0.42407389,\n",
       "        -0.42407389, -0.42407389, -0.42407389, -0.42407389, -0.42407389,\n",
       "        -0.42407389, -0.42407389, -0.42407389, -0.42407389, -0.42407389,\n",
       "        -0.42407389,  0.32687284,  2.74517588,  2.80881543,  0.36505657,\n",
       "        -0.42407389, -0.42407389, -0.42407389, -0.42407389, -0.42407389,\n",
       "        -0.42407389, -0.42407389, -0.42407389],\n",
       "       [-0.42407389, -0.42407389, -0.42407389, -0.42407389, -0.42407389,\n",
       "        -0.42407389, -0.42407389, -0.42407389, -0.42407389, -0.42407389,\n",
       "        -0.42407389, -0.42407389, -0.42407389, -0.42407389, -0.42407389,\n",
       "        -0.42407389,  1.26873823,  2.80881543,  1.95604542, -0.36043434,\n",
       "        -0.42407389, -0.42407389, -0.42407389, -0.42407389, -0.42407389,\n",
       "        -0.42407389, -0.42407389, -0.42407389],\n",
       "       [-0.42407389, -0.42407389, -0.42407389, -0.42407389, -0.42407389,\n",
       "        -0.42407389, -0.42407389, -0.42407389, -0.42407389, -0.42407389,\n",
       "        -0.42407389, -0.42407389, -0.42407389, -0.42407389, -0.42407389,\n",
       "        -0.3095227 ,  2.18514781,  2.73244797,  0.31414493, -0.42407389,\n",
       "        -0.42407389, -0.42407389, -0.42407389, -0.42407389, -0.42407389,\n",
       "        -0.42407389, -0.42407389, -0.42407389],\n",
       "       [-0.42407389, -0.42407389, -0.42407389, -0.42407389, -0.42407389,\n",
       "        -0.42407389, -0.42407389, -0.42407389, -0.42407389, -0.42407389,\n",
       "        -0.42407389, -0.42407389, -0.42407389, -0.42407389, -0.42407389,\n",
       "         1.17964286,  2.80881543,  1.89240586, -0.42407389, -0.42407389,\n",
       "        -0.42407389, -0.42407389, -0.42407389, -0.42407389, -0.42407389,\n",
       "        -0.42407389, -0.42407389, -0.42407389],\n",
       "       [-0.42407389, -0.42407389, -0.42407389, -0.42407389, -0.42407389,\n",
       "        -0.42407389, -0.42407389, -0.42407389, -0.42407389, -0.42407389,\n",
       "        -0.42407389, -0.42407389, -0.42407389, -0.42407389,  0.53051941,\n",
       "         2.7706317 ,  2.63062468,  0.30141702, -0.42407389, -0.42407389,\n",
       "        -0.42407389, -0.42407389, -0.42407389, -0.42407389, -0.42407389,\n",
       "        -0.42407389, -0.42407389, -0.42407389],\n",
       "       [-0.42407389, -0.42407389, -0.42407389, -0.42407389, -0.42407389,\n",
       "        -0.42407389, -0.42407389, -0.42407389, -0.42407389, -0.42407389,\n",
       "        -0.42407389, -0.42407389, -0.42407389, -0.18224359,  2.38879438,\n",
       "         2.80881543,  1.68875929, -0.42407389, -0.42407389, -0.42407389,\n",
       "        -0.42407389, -0.42407389, -0.42407389, -0.42407389, -0.42407389,\n",
       "        -0.42407389, -0.42407389, -0.42407389],\n",
       "       [-0.42407389, -0.42407389, -0.42407389, -0.42407389, -0.42407389,\n",
       "        -0.42407389, -0.42407389, -0.42407389, -0.42407389, -0.42407389,\n",
       "        -0.42407389, -0.42407389, -0.38589016,  2.15969199,  2.80881543,\n",
       "         2.36333856,  0.02140298, -0.42407389, -0.42407389, -0.42407389,\n",
       "        -0.42407389, -0.42407389, -0.42407389, -0.42407389, -0.42407389,\n",
       "        -0.42407389, -0.42407389, -0.42407389],\n",
       "       [-0.42407389, -0.42407389, -0.42407389, -0.42407389, -0.42407389,\n",
       "        -0.42407389, -0.42407389, -0.42407389, -0.42407389, -0.42407389,\n",
       "        -0.42407389, -0.42407389,  0.05958671,  2.80881543,  2.80881543,\n",
       "         0.55597523, -0.42407389, -0.42407389, -0.42407389, -0.42407389,\n",
       "        -0.42407389, -0.42407389, -0.42407389, -0.42407389, -0.42407389,\n",
       "        -0.42407389, -0.42407389, -0.42407389],\n",
       "       [-0.42407389, -0.42407389, -0.42407389, -0.42407389, -0.42407389,\n",
       "        -0.42407389, -0.42407389, -0.42407389, -0.42407389, -0.42407389,\n",
       "        -0.42407389, -0.02950866,  2.42697811,  2.80881543,  1.03963584,\n",
       "        -0.41134598, -0.42407389, -0.42407389, -0.42407389, -0.42407389,\n",
       "        -0.42407389, -0.42407389, -0.42407389, -0.42407389, -0.42407389,\n",
       "        -0.42407389, -0.42407389, -0.42407389],\n",
       "       [-0.42407389, -0.42407389, -0.42407389, -0.42407389, -0.42407389,\n",
       "        -0.42407389, -0.42407389, -0.42407389, -0.42407389, -0.42407389,\n",
       "        -0.42407389,  1.26873823,  2.80881543,  2.80881543,  0.23777746,\n",
       "        -0.42407389, -0.42407389, -0.42407389, -0.42407389, -0.42407389,\n",
       "        -0.42407389, -0.42407389, -0.42407389, -0.42407389, -0.42407389,\n",
       "        -0.42407389, -0.42407389, -0.42407389],\n",
       "       [-0.42407389, -0.42407389, -0.42407389, -0.42407389, -0.42407389,\n",
       "        -0.42407389, -0.42407389, -0.42407389, -0.42407389, -0.42407389,\n",
       "         0.35232866,  2.65608051,  2.80881543,  2.80881543,  0.23777746,\n",
       "        -0.42407389, -0.42407389, -0.42407389, -0.42407389, -0.42407389,\n",
       "        -0.42407389, -0.42407389, -0.42407389, -0.42407389, -0.42407389,\n",
       "        -0.42407389, -0.42407389, -0.42407389],\n",
       "       [-0.42407389, -0.42407389, -0.42407389, -0.42407389, -0.42407389,\n",
       "        -0.42407389, -0.42407389, -0.42407389, -0.42407389, -0.42407389,\n",
       "         1.11600331,  2.80881543,  2.80881543,  2.36333856,  0.08504254,\n",
       "        -0.42407389, -0.42407389, -0.42407389, -0.42407389, -0.42407389,\n",
       "        -0.42407389, -0.42407389, -0.42407389, -0.42407389, -0.42407389,\n",
       "        -0.42407389, -0.42407389, -0.42407389],\n",
       "       [-0.42407389, -0.42407389, -0.42407389, -0.42407389, -0.42407389,\n",
       "        -0.42407389, -0.42407389, -0.42407389, -0.42407389, -0.42407389,\n",
       "         1.11600331,  2.80881543,  2.21060363, -0.1949715 , -0.42407389,\n",
       "        -0.42407389, -0.42407389, -0.42407389, -0.42407389, -0.42407389,\n",
       "        -0.42407389, -0.42407389, -0.42407389, -0.42407389, -0.42407389,\n",
       "        -0.42407389, -0.42407389, -0.42407389],\n",
       "       [-0.42407389, -0.42407389, -0.42407389, -0.42407389, -0.42407389,\n",
       "        -0.42407389, -0.42407389, -0.42407389, -0.42407389, -0.42407389,\n",
       "        -0.42407389, -0.42407389, -0.42407389, -0.42407389, -0.42407389,\n",
       "        -0.42407389, -0.42407389, -0.42407389, -0.42407389, -0.42407389,\n",
       "        -0.42407389, -0.42407389, -0.42407389, -0.42407389, -0.42407389,\n",
       "        -0.42407389, -0.42407389, -0.42407389]])"
      ]
     },
     "execution_count": 13,
     "metadata": {},
     "output_type": "execute_result"
    }
   ],
   "execution_count": 13
  },
  {
   "metadata": {
    "ExecuteTime": {
     "end_time": "2025-03-12T11:56:19.405018Z",
     "start_time": "2025-03-12T11:56:17.989097Z"
    }
   },
   "cell_type": "code",
   "source": [
    "from matplotlib import pyplot as plt\n",
    "\n",
    "plt.figure(figsize=(15, 7))\n",
    "for i in range(5):\n",
    "    plt.subplot(1, 5, i+1)\n",
    "\n",
    "    idx = np.random.randint(0, test_images.shape[0])\n",
    "    img = test_images[idx].reshape(28, 28)\n",
    "\n",
    "\n",
    "    real_label = np.argmax(test_labels[idx])\n",
    "    pred_label = np.argmax(model.predict(img.reshape(1, 28, 28)))\n",
    "\n",
    "    # Отображаем изображение с подписью\n",
    "    plt.imshow(img, cmap='gray')\n",
    "    plt.title(f'Real: {real_label} Pred: {pred_label}', fontsize=10)\n",
    "    plt.axis('off')\n",
    "\n",
    "plt.tight_layout()\n",
    "plt.show()"
   ],
   "id": "ebdb84b9dd9e2278",
   "outputs": [
    {
     "name": "stdout",
     "output_type": "stream",
     "text": [
      "\u001B[1m1/1\u001B[0m \u001B[32m━━━━━━━━━━━━━━━━━━━━\u001B[0m\u001B[37m\u001B[0m \u001B[1m0s\u001B[0m 229ms/step\n",
      "\u001B[1m1/1\u001B[0m \u001B[32m━━━━━━━━━━━━━━━━━━━━\u001B[0m\u001B[37m\u001B[0m \u001B[1m0s\u001B[0m 56ms/step\n",
      "\u001B[1m1/1\u001B[0m \u001B[32m━━━━━━━━━━━━━━━━━━━━\u001B[0m\u001B[37m\u001B[0m \u001B[1m0s\u001B[0m 54ms/step\n",
      "\u001B[1m1/1\u001B[0m \u001B[32m━━━━━━━━━━━━━━━━━━━━\u001B[0m\u001B[37m\u001B[0m \u001B[1m0s\u001B[0m 54ms/step\n",
      "\u001B[1m1/1\u001B[0m \u001B[32m━━━━━━━━━━━━━━━━━━━━\u001B[0m\u001B[37m\u001B[0m \u001B[1m0s\u001B[0m 53ms/step\n"
     ]
    },
    {
     "data": {
      "text/plain": [
       "<Figure size 1500x700 with 5 Axes>"
      ],
      "image/png": "[encoded data removed]"
     },
     "metadata": {},
     "output_type": "display_data"
    }
   ],
   "execution_count": 14
  },
  {
   "metadata": {
    "ExecuteTime": {
     "end_time": "2025-03-12T11:56:19.469938Z",
     "start_time": "2025-03-12T11:56:19.466577Z"
    }
   },
   "cell_type": "code",
   "source": "",
   "id": "1adf85e6f4aad0c4",
   "outputs": [],
   "execution_count": null
  },
  {
   "metadata": {
    "ExecuteTime": {
     "end_time": "2025-03-12T11:56:19.730466Z",
     "start_time": "2025-03-12T11:56:19.479944Z"
    }
   },
   "cell_type": "code",
   "source": [
    "from matplotlib import pyplot as plt\n",
    "plt.figure()\n",
    "plt.plot(list(range(EPOCHS)), history.history['val_accuracy'], label='Validation Accuracy')\n",
    "plt.plot(list(range(EPOCHS)), history.history['val_loss'], label='Validation loss')\n",
    "plt.plot(list(range(EPOCHS)), history.history['accuracy'], label='Train accuracy')\n",
    "plt.plot(list(range(EPOCHS)), history.history['loss'], label='Train loss')\n",
    "plt.title('График обучения')\n",
    "plt.ylabel('Loss/Accuracy')\n",
    "plt.xlabel('Epochs')\n",
    "plt.grid(True)\n",
    "plt.legend()\n",
    "plt.show()"
   ],
   "id": "32ca2e9adb98ab3a",
   "outputs": [
    {
     "data": {
      "text/plain": [
       "<Figure size 640x480 with 1 Axes>"
      ],
      "image/png": "[encoded data removed]"
     },
     "metadata": {},
     "output_type": "display_data"
    }
   ],
   "execution_count": 15
  },
  {
   "metadata": {
    "ExecuteTime": {
     "end_time": "2025-03-12T11:56:19.996407Z",
     "start_time": "2025-03-12T11:56:19.992558Z"
    }
   },
   "cell_type": "code",
   "source": "",
   "id": "95936fda7d266d61",
   "outputs": [],
   "execution_count": null
  }
 ],
 "metadata": {
  "kernelspec": {
   "name": "python3",
   "language": "python",
   "display_name": "Python 3 (ipykernel)"
  }
 },
 "nbformat": 5,
 "nbformat_minor": 9
}
