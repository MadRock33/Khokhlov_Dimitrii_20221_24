{
 "cells": [
  {
   "cell_type": "markdown",
   "metadata": {},
   "source": [
    "Практическое занятие 1 Алгоритм обучения персептрона"
   ]
  },
  {
   "cell_type": "markdown",
   "metadata": {},
   "source": [
    "В первом фрагменте кода показан код инициализации, в котором мы сначала импортируем библиотеку для рандомизации, а затем инициализируем переменные для обучающих примеров и весов персептрона."
   ]
  },
  {
   "metadata": {
    "ExecuteTime": {
     "end_time": "2024-10-09T08:00:15.621715Z",
     "start_time": "2024-10-09T08:00:07.949085Z"
    }
   },
   "cell_type": "code",
   "source": "!pip install matplotlib",
   "outputs": [
    {
     "name": "stdout",
     "output_type": "stream",
     "text": [
      "Requirement already satisfied: matplotlib in c:\\users\\madro\\miniconda3\\lib\\site-packages (3.9.2)\n",
      "Requirement already satisfied: contourpy>=1.0.1 in c:\\users\\madro\\miniconda3\\lib\\site-packages (from matplotlib) (1.2.0)\n",
      "Requirement already satisfied: cycler>=0.10 in c:\\users\\madro\\miniconda3\\lib\\site-packages (from matplotlib) (0.11.0)\n",
      "Requirement already satisfied: fonttools>=4.22.0 in c:\\users\\madro\\miniconda3\\lib\\site-packages (from matplotlib) (4.51.0)\n",
      "Requirement already satisfied: kiwisolver>=1.3.1 in c:\\users\\madro\\miniconda3\\lib\\site-packages (from matplotlib) (1.4.4)\n",
      "Requirement already satisfied: numpy>=1.23 in c:\\users\\madro\\miniconda3\\lib\\site-packages (from matplotlib) (1.26.4)\n",
      "Requirement already satisfied: packaging>=20.0 in c:\\users\\madro\\miniconda3\\lib\\site-packages (from matplotlib) (23.2)\n",
      "Requirement already satisfied: pillow>=8 in c:\\users\\madro\\miniconda3\\lib\\site-packages (from matplotlib) (10.4.0)\n",
      "Requirement already satisfied: pyparsing>=2.3.1 in c:\\users\\madro\\miniconda3\\lib\\site-packages (from matplotlib) (3.1.2)\n",
      "Requirement already satisfied: python-dateutil>=2.7 in c:\\users\\madro\\miniconda3\\lib\\site-packages (from matplotlib) (2.9.0.post0)\n",
      "Requirement already satisfied: six>=1.5 in c:\\users\\madro\\miniconda3\\lib\\site-packages (from python-dateutil>=2.7->matplotlib) (1.16.0)\n"
     ]
    }
   ],
   "execution_count": 185
  },
  {
   "metadata": {
    "ExecuteTime": {
     "end_time": "2024-10-09T08:00:15.643609Z",
     "start_time": "2024-10-09T08:00:15.637271Z"
    }
   },
   "cell_type": "code",
   "source": [
    "import random\n",
    "import matplotlib.pyplot as plt"
   ],
   "outputs": [],
   "execution_count": 186
  },
  {
   "cell_type": "code",
   "metadata": {
    "ExecuteTime": {
     "end_time": "2024-10-09T08:00:15.704481Z",
     "start_time": "2024-10-09T08:00:15.682322Z"
    }
   },
   "source": [
    "def show_learning(w):\n",
    "    print('w0 =', '%5.2f' % w[0], ', w1 =', '%5.2f' % w[1], ', w2 =', '%5.2f' % w[2])\n",
    "# Определяем переменные, необходимые для процесса обучения\n",
    "random.seed(7) # Чтобы обеспечить повторяемость\n",
    "LEARNING_RATE = 0.1\n",
    " # Чтобы сделать порядок случайным\n",
    "# Определяем обучающие примеры \n",
    "x_train = [(1.0,1.9, -1.7),(1.0, 1.9, -0.8),(1.0, 1.9, 0.7),(1.0, 1.9, 0.8),(1.0, 1.9,1.2),(1.0, 1.9, 1.7),\n",
    "                       (1.0,0.5, -1.7),(1.0, 0.5, -0.8),(1.0,0.5,0.7),(1.0,0.5,0.8),(1.0,0.5,1.2),(1.0,0.5,1.7),\n",
    "                       (1.0,-0.6, -1.7),(1.0,-0.6,-0.8),(1.0,-0.6,0.7),(1.0,-0.6,0.8),(1.0,-0.6,1.2),(1.0,-0.6,1.7),\n",
    "                       (1.0,-0.8,-1.7),(1.0,-0.8,-0.8),(1.0,-0.8,0.7),(1.0,-0.8,0.8),(1.0,-0.8,1.2),(1.0,-0.8, 1.7),\n",
    "                       (1.0,-1.2,-1.7),(1.0,-1.2,-0.8),(1.0,-1.2,0.7),(1.0,-1.2,0.8),(1.0,-1.2,1.2),(1.0,-1.2, 1.7),\n",
    "                       (1.0,-1.9,-1.7),(1.0,-1.9,-0.8),(1.0,-1.9,0.7),(1.0,-1.9,0.8),(1.0,-1.9,1.2),(1.0, -1.9, 1.7)] # Входы\n",
    "y_train = [-1.0, -1.0, -1.0, -1.0, -1.0, -1.0,\n",
    "                         -1.0, -1.0, -1.0, -1.0, -1.0, -1.0, \n",
    "                         -1.0, -1.0, -1.0, -1.0, -1.0, 1.0, \n",
    "                         -1.0, -1.0, -1.0, -1.0, 1.0, 1.0, \n",
    "                         -1.0, -1.0, -1.0, 1.0, 1.0, 1.0, \n",
    "                         -1.0, -1.0, 1.0, 1.0, 1.0, 1.0] # Выход (истина)\n",
    "# Определяем веса персептрона\n",
    "index_list = list(range(len(y_train)))\n",
    "w = [0.2, -0.6, 0.25]\n",
    "all_w = []\n",
    "all_data = {\n",
    "    \"x\":[],\n",
    "    \"y\":[],\n",
    "    \"w\":[]\n",
    "}# Инициализируем «случайными» числами\n",
    "# Печатаем начальные значения весов\n",
    "show_learning(w)"
   ],
   "outputs": [
    {
     "name": "stdout",
     "output_type": "stream",
     "text": [
      "w0 =  0.20 , w1 = -0.60 , w2 =  0.25\n"
     ]
    }
   ],
   "execution_count": 187
  },
  {
   "cell_type": "markdown",
   "metadata": {},
   "source": [
    "Обратите внимание, что каждый входной обучающий пример состоит из трех значений, но первое значение всегда равно 1,0, потому что это смещение (bias). "
   ]
  },
  {
   "cell_type": "markdown",
   "metadata": {},
   "source": [
    "Следующий фрагмент кода описывает вычисление выходных данных персептрона."
   ]
  },
  {
   "cell_type": "code",
   "metadata": {
    "ExecuteTime": {
     "end_time": "2024-10-09T08:00:15.761069Z",
     "start_time": "2024-10-09T08:00:15.753102Z"
    }
   },
   "source": [
    "# Значение первого элемента вектора x должно быть равно 1\n",
    "# Для нейрона с n входами длины w and x должны быть равны n+1\n",
    "def compute_output(w, x):\n",
    "    z = 0.0\n",
    "    for i in range(len(w)):\n",
    "        z += x[i] * w[i] # Вычисление суммы взвешенных входов(вычисляем скалярное произведение векторов \"x\" и \"w\")\n",
    "    if z < 0: # Применение знаковой функции(Пошаговая функция активации)\n",
    "        return -1\n",
    "    else:\n",
    "        return 1\n",
    "\n",
    "\n"
   ],
   "outputs": [],
   "execution_count": 188
  },
  {
   "cell_type": "markdown",
   "metadata": {},
   "source": [
    "Последний фрагмент кода содержит цикл обучения персептрона. Это вложенный цикл, в котором внутренний цикл проходит через все четыре обучающих примера в случайном порядке. Для каждого примера он вычисляет выходные данные, корректирует и печатает веса, если выходные данные неверны. Внешний цикл проверяет, выдал ли персептрон правильный вывод для всех четырех примеров, и если да, то завершает программу."
   ]
  },
  {
   "cell_type": "code",
   "metadata": {
    "ExecuteTime": {
     "end_time": "2024-10-09T08:00:15.833339Z",
     "start_time": "2024-10-09T08:00:15.822369Z"
    }
   },
   "source": [
    "# Цикл обучения персептрона\n",
    "all_correct = False\n",
    "while not all_correct:\n",
    "    all_correct = True\n",
    "    random.shuffle(index_list) # Сделать порядок случайным\n",
    "    for i in index_list:\n",
    "        x = x_train[i]\n",
    "        y = y_train[i]\n",
    "        p_out = compute_output(w, x) # Функция персептрона\n",
    "        \n",
    "        if y != p_out: # Обновить веса, когда неправильно\n",
    "            for j in range(0, len(w)):\n",
    "                w[j] += (y * LEARNING_RATE * x[j])\n",
    "            \n",
    "            all_correct = False\n",
    "            show_learning(w)\n",
    "        all_data[\"x\"].append(x)\n",
    "        all_data[\"y\"].append(p_out)\n",
    "        all_data[\"w\"].append(w.copy())"
   ],
   "outputs": [
    {
     "name": "stdout",
     "output_type": "stream",
     "text": [
      "w0 =  0.10 , w1 = -0.41 , w2 =  0.33\n",
      "w0 =  0.00 , w1 = -0.29 , w2 =  0.50\n",
      "w0 = -0.10 , w1 = -0.34 , w2 =  0.38\n",
      "w0 = -0.20 , w1 = -0.28 , w2 =  0.31\n",
      "w0 = -0.30 , w1 = -0.22 , w2 =  0.23\n",
      "w0 = -0.40 , w1 = -0.14 , w2 =  0.15\n",
      "w0 = -0.30 , w1 = -0.33 , w2 =  0.23\n",
      "w0 = -0.40 , w1 = -0.27 , w2 =  0.11\n",
      "w0 = -0.30 , w1 = -0.33 , w2 =  0.28\n",
      "w0 = -0.40 , w1 = -0.21 , w2 =  0.21\n"
     ]
    }
   ],
   "execution_count": 189
  },
  {
   "metadata": {
    "ExecuteTime": {
     "end_time": "2024-10-09T08:00:15.925965Z",
     "start_time": "2024-10-09T08:00:15.917963Z"
    }
   },
   "cell_type": "code",
   "source": [
    "def draw_line(w,color = 'magenta'):\n",
    "    x1 = [-1.9,1.9] \n",
    "    x2 = [-w[1]* x1[i]/w[2]  - w[0] / w[2] for i in range(len(x1))]\n",
    "    plt.axline(*list(zip(x2,x1)), color=color)"
   ],
   "outputs": [],
   "execution_count": 190
  },
  {
   "metadata": {
    "ExecuteTime": {
     "end_time": "2024-10-09T08:00:15.977194Z",
     "start_time": "2024-10-09T08:00:15.968195Z"
    }
   },
   "cell_type": "code",
   "source": [
    "def show_training(input_data,output,w,xlim:list[float,float] = [-1.1,1.1], ylim:list[float,float] = [-1.1,1.1]):\n",
    "        plt.xlim(xlim)\n",
    "        plt.ylim(ylim)\n",
    "        plt.xlabel(\"x2\")\n",
    "        plt.ylabel(\"x1\")\n",
    "        \n",
    "        for i in range(len(output)):\n",
    "            if output[i] == -1:\n",
    "                #print(f\"{self.__x_train[i][1]},{self.__x_train[i][2]}:{self.__y_train[0][i]} -\")\n",
    "                plt.scatter(input_data[i][2],input_data[i][1], color='blue', marker='_')\n",
    "            else:\n",
    "                #print(f\"{self.__x_train[i][1]},{self.__x_train[i][2]}:{self.__y_train[0][i]} +\")\n",
    "                plt.scatter(input_data[i][2],input_data[i][1], color='red', marker='+')\n",
    "                \n",
    "        draw_line(w)\n",
    "        plt.show()"
   ],
   "outputs": [],
   "execution_count": 191
  },
  {
   "metadata": {
    "ExecuteTime": {
     "end_time": "2024-10-09T08:00:16.010399Z",
     "start_time": "2024-10-09T08:00:15.996758Z"
    }
   },
   "cell_type": "code",
   "source": [
    "def show_all_training(input_data,output,all_w,xlim:list[float,float] = [-1.1,1.1], ylim:list[float,float] = [-1.1,1.1]):\n",
    "\n",
    "    plt.xlim([min(input_data[:,i] for i in range(len(input_data))),max(input_data[:,i] for i in range(len(input_data)))])\n",
    "    \n",
    "    plt.ylim(ylim)\n",
    "    plt.xlabel(\"x2\")\n",
    "    plt.ylabel(\"x1\")\n",
    "    \n",
    "    for i in range(len(output)):\n",
    "            if output[i] == -1:\n",
    "                #print(f\"{self.__x_train[i][1]},{self.__x_train[i][2]}:{self.__y_train[0][i]} -\")\n",
    "                plt.scatter(input_data[i][2],input_data[i][1], color='blue', marker='_')\n",
    "            else:\n",
    "                #print(f\"{self.__x_train[i][1]},{self.__x_train[i][2]}:{self.__y_train[0][i]} +\")\n",
    "                plt.scatter(input_data[i][2],input_data[i][1], color='red', marker='+')\n",
    "    \n",
    "    for i in range(len(all_w)):\n",
    "        draw_line(all_w[i])\n",
    "    plt.show()\n",
    "        "
   ],
   "outputs": [],
   "execution_count": 192
  },
  {
   "metadata": {
    "ExecuteTime": {
     "end_time": "2024-10-09T08:00:16.409704Z",
     "start_time": "2024-10-09T08:00:16.030318Z"
    }
   },
   "cell_type": "code",
   "source": [
    "if __name__ == '__main__':\n",
    "    show_training(x_train,y_train,w,xlim=[-2,2],ylim=[-2,2])\n",
    "    show_all_training(input_data=all_data[\"x\"], output=all_data[\"y\"],all_w=all_data[\"w\"],xlim=[-2,2],ylim=[-2,2])\n"
   ],
   "outputs": [
    {
     "data": {
      "text/plain": [
       "<Figure size 640x480 with 1 Axes>"
      ],
      "image/png": "[encoded data removed]"
     },
     "metadata": {},
     "output_type": "display_data"
    },
    {
     "ename": "TypeError",
     "evalue": "list indices must be integers or slices, not tuple",
     "output_type": "error",
     "traceback": [
      "\u001B[1;31m---------------------------------------------------------------------------\u001B[0m",
      "\u001B[1;31mTypeError\u001B[0m                                 Traceback (most recent call last)",
      "Cell \u001B[1;32mIn[193], line 3\u001B[0m\n\u001B[0;32m      1\u001B[0m \u001B[38;5;28;01mif\u001B[39;00m \u001B[38;5;18m__name__\u001B[39m \u001B[38;5;241m==\u001B[39m \u001B[38;5;124m'\u001B[39m\u001B[38;5;124m__main__\u001B[39m\u001B[38;5;124m'\u001B[39m:\n\u001B[0;32m      2\u001B[0m     show_training(x_train,y_train,w,xlim\u001B[38;5;241m=\u001B[39m[\u001B[38;5;241m-\u001B[39m\u001B[38;5;241m2\u001B[39m,\u001B[38;5;241m2\u001B[39m],ylim\u001B[38;5;241m=\u001B[39m[\u001B[38;5;241m-\u001B[39m\u001B[38;5;241m2\u001B[39m,\u001B[38;5;241m2\u001B[39m])\n\u001B[1;32m----> 3\u001B[0m     show_all_training(input_data\u001B[38;5;241m=\u001B[39mall_data[\u001B[38;5;124m\"\u001B[39m\u001B[38;5;124mx\u001B[39m\u001B[38;5;124m\"\u001B[39m], output\u001B[38;5;241m=\u001B[39mall_data[\u001B[38;5;124m\"\u001B[39m\u001B[38;5;124my\u001B[39m\u001B[38;5;124m\"\u001B[39m],all_w\u001B[38;5;241m=\u001B[39mall_data[\u001B[38;5;124m\"\u001B[39m\u001B[38;5;124mw\u001B[39m\u001B[38;5;124m\"\u001B[39m],xlim\u001B[38;5;241m=\u001B[39m[\u001B[38;5;241m-\u001B[39m\u001B[38;5;241m2\u001B[39m,\u001B[38;5;241m2\u001B[39m],ylim\u001B[38;5;241m=\u001B[39m[\u001B[38;5;241m-\u001B[39m\u001B[38;5;241m2\u001B[39m,\u001B[38;5;241m2\u001B[39m])\n",
      "Cell \u001B[1;32mIn[192], line 2\u001B[0m, in \u001B[0;36mshow_all_training\u001B[1;34m(input_data, output, all_w, xlim, ylim)\u001B[0m\n\u001B[0;32m      1\u001B[0m \u001B[38;5;28;01mdef\u001B[39;00m \u001B[38;5;21mshow_all_training\u001B[39m(input_data,output,all_w,xlim:\u001B[38;5;28mlist\u001B[39m[\u001B[38;5;28mfloat\u001B[39m,\u001B[38;5;28mfloat\u001B[39m] \u001B[38;5;241m=\u001B[39m [\u001B[38;5;241m-\u001B[39m\u001B[38;5;241m1.1\u001B[39m,\u001B[38;5;241m1.1\u001B[39m], ylim:\u001B[38;5;28mlist\u001B[39m[\u001B[38;5;28mfloat\u001B[39m,\u001B[38;5;28mfloat\u001B[39m] \u001B[38;5;241m=\u001B[39m [\u001B[38;5;241m-\u001B[39m\u001B[38;5;241m1.1\u001B[39m,\u001B[38;5;241m1.1\u001B[39m]):\n\u001B[1;32m----> 2\u001B[0m     \u001B[38;5;28mprint\u001B[39m([\u001B[38;5;28mmin\u001B[39m(input_data[:,i] \u001B[38;5;28;01mfor\u001B[39;00m i \u001B[38;5;129;01min\u001B[39;00m \u001B[38;5;28mrange\u001B[39m(\u001B[38;5;28mlen\u001B[39m(input_data))),\u001B[38;5;28mmax\u001B[39m(input_data[:,i] \u001B[38;5;28;01mfor\u001B[39;00m i \u001B[38;5;129;01min\u001B[39;00m \u001B[38;5;28mrange\u001B[39m(\u001B[38;5;28mlen\u001B[39m(input_data)))])\n\u001B[0;32m      3\u001B[0m     plt\u001B[38;5;241m.\u001B[39mxlim([\u001B[38;5;28mmin\u001B[39m(input_data[:,i] \u001B[38;5;28;01mfor\u001B[39;00m i \u001B[38;5;129;01min\u001B[39;00m \u001B[38;5;28mrange\u001B[39m(\u001B[38;5;28mlen\u001B[39m(input_data))),\u001B[38;5;28mmax\u001B[39m(input_data[:,i] \u001B[38;5;28;01mfor\u001B[39;00m i \u001B[38;5;129;01min\u001B[39;00m \u001B[38;5;28mrange\u001B[39m(\u001B[38;5;28mlen\u001B[39m(input_data)))])\n\u001B[0;32m      5\u001B[0m     plt\u001B[38;5;241m.\u001B[39mylim(ylim)\n",
      "Cell \u001B[1;32mIn[192], line 2\u001B[0m, in \u001B[0;36m<genexpr>\u001B[1;34m(.0)\u001B[0m\n\u001B[0;32m      1\u001B[0m \u001B[38;5;28;01mdef\u001B[39;00m \u001B[38;5;21mshow_all_training\u001B[39m(input_data,output,all_w,xlim:\u001B[38;5;28mlist\u001B[39m[\u001B[38;5;28mfloat\u001B[39m,\u001B[38;5;28mfloat\u001B[39m] \u001B[38;5;241m=\u001B[39m [\u001B[38;5;241m-\u001B[39m\u001B[38;5;241m1.1\u001B[39m,\u001B[38;5;241m1.1\u001B[39m], ylim:\u001B[38;5;28mlist\u001B[39m[\u001B[38;5;28mfloat\u001B[39m,\u001B[38;5;28mfloat\u001B[39m] \u001B[38;5;241m=\u001B[39m [\u001B[38;5;241m-\u001B[39m\u001B[38;5;241m1.1\u001B[39m,\u001B[38;5;241m1.1\u001B[39m]):\n\u001B[1;32m----> 2\u001B[0m     \u001B[38;5;28mprint\u001B[39m([\u001B[38;5;28mmin\u001B[39m(input_data[:,i] \u001B[38;5;28;01mfor\u001B[39;00m i \u001B[38;5;129;01min\u001B[39;00m \u001B[38;5;28mrange\u001B[39m(\u001B[38;5;28mlen\u001B[39m(input_data))),\u001B[38;5;28mmax\u001B[39m(input_data[:,i] \u001B[38;5;28;01mfor\u001B[39;00m i \u001B[38;5;129;01min\u001B[39;00m \u001B[38;5;28mrange\u001B[39m(\u001B[38;5;28mlen\u001B[39m(input_data)))])\n\u001B[0;32m      3\u001B[0m     plt\u001B[38;5;241m.\u001B[39mxlim([\u001B[38;5;28mmin\u001B[39m(input_data[:,i] \u001B[38;5;28;01mfor\u001B[39;00m i \u001B[38;5;129;01min\u001B[39;00m \u001B[38;5;28mrange\u001B[39m(\u001B[38;5;28mlen\u001B[39m(input_data))),\u001B[38;5;28mmax\u001B[39m(input_data[:,i] \u001B[38;5;28;01mfor\u001B[39;00m i \u001B[38;5;129;01min\u001B[39;00m \u001B[38;5;28mrange\u001B[39m(\u001B[38;5;28mlen\u001B[39m(input_data)))])\n\u001B[0;32m      5\u001B[0m     plt\u001B[38;5;241m.\u001B[39mylim(ylim)\n",
      "\u001B[1;31mTypeError\u001B[0m: list indices must be integers or slices, not tuple"
     ]
    }
   ],
   "execution_count": 193
  },
  {
   "metadata": {
    "ExecuteTime": {
     "end_time": "2024-10-09T08:00:16.479864200Z",
     "start_time": "2024-10-07T08:17:32.727358Z"
    }
   },
   "cell_type": "code",
   "source": "",
   "outputs": [],
   "execution_count": null
  },
  {
   "metadata": {
    "ExecuteTime": {
     "end_time": "2024-10-09T08:00:16.479864200Z",
     "start_time": "2024-10-07T08:17:32.752753Z"
    }
   },
   "cell_type": "code",
   "source": "",
   "outputs": [],
   "execution_count": null
  },
  {
   "metadata": {},
   "cell_type": "code",
   "outputs": [],
   "execution_count": null,
   "source": ""
  }
 ],
 "metadata": {
  "kernelspec": {
   "display_name": "Python 3 (ipykernel)",
   "language": "python",
   "name": "python3"
  },
  "language_info": {
   "codemirror_mode": {
    "name": "ipython",
    "version": 3
   },
   "file_extension": ".py",
   "mimetype": "text/x-python",
   "name": "python",
   "nbconvert_exporter": "python",
   "pygments_lexer": "ipython3",
   "version": "3.9.12"
  }
 },
 "nbformat": 4,
 "nbformat_minor": 4
}
